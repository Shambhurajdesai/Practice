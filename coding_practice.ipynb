{
  "nbformat": 4,
  "nbformat_minor": 0,
  "metadata": {
    "colab": {
      "provenance": [],
      "authorship_tag": "ABX9TyP706C+0rlus5gvko6RxZjF",
      "include_colab_link": true
    },
    "kernelspec": {
      "name": "python3",
      "display_name": "Python 3"
    },
    "language_info": {
      "name": "python"
    }
  },
  "cells": [
    {
      "cell_type": "markdown",
      "metadata": {
        "id": "view-in-github",
        "colab_type": "text"
      },
      "source": [
        "<a href=\"https://colab.research.google.com/github/Shambhurajdesai/Practice/blob/main/coding_practice.ipynb\" target=\"_parent\"><img src=\"https://colab.research.google.com/assets/colab-badge.svg\" alt=\"Open In Colab\"/></a>"
      ]
    },
    {
      "cell_type": "code",
      "source": [
        "word = input(str())\n",
        "if word == word[::-1]:\n",
        "  print(f'{word} is Pallindrome')"
      ],
      "metadata": {
        "id": "mWSayZaKlOVf",
        "colab": {
          "base_uri": "https://localhost:8080/"
        },
        "outputId": "ddcee8a1-5156-4e1f-e75e-ccaec96cab64"
      },
      "execution_count": 14,
      "outputs": [
        {
          "output_type": "stream",
          "name": "stdout",
          "text": [
            "madam\n",
            "madam is Pallindrome\n"
          ]
        }
      ]
    },
    {
      "cell_type": "code",
      "source": [
        "n=10\n",
        "for i in range(1,n+1):\n",
        "  if i > 0:\n",
        "    print(i)"
      ],
      "metadata": {
        "colab": {
          "base_uri": "https://localhost:8080/"
        },
        "id": "w1M9AN8DG1X2",
        "outputId": "669bf3ab-2ac6-4e61-d415-a9d66d611b06"
      },
      "execution_count": 16,
      "outputs": [
        {
          "output_type": "stream",
          "name": "stdout",
          "text": [
            "1\n",
            "2\n",
            "3\n",
            "4\n",
            "5\n",
            "6\n",
            "7\n",
            "8\n",
            "9\n",
            "10\n"
          ]
        }
      ]
    },
    {
      "cell_type": "code",
      "source": [
        "word = 'Sky is blue'\n",
        "print(word[::-1])"
      ],
      "metadata": {
        "colab": {
          "base_uri": "https://localhost:8080/"
        },
        "id": "FwZR4UDPHJzg",
        "outputId": "09d3fe5d-3d38-4270-bc68-fafeaf93c3dd"
      },
      "execution_count": 22,
      "outputs": [
        {
          "output_type": "stream",
          "name": "stdout",
          "text": [
            "eulb si ykS\n"
          ]
        }
      ]
    },
    {
      "cell_type": "code",
      "source": [
        "mylist = word.split()\n",
        "mylist = mylist[::-1]"
      ],
      "metadata": {
        "id": "BjG7_3fGJDLl"
      },
      "execution_count": 23,
      "outputs": []
    },
    {
      "cell_type": "code",
      "source": [
        "mylist"
      ],
      "metadata": {
        "colab": {
          "base_uri": "https://localhost:8080/"
        },
        "id": "f2najHvmJvC9",
        "outputId": "a0f034ef-abb1-4f64-a611-9050fb2c0b27"
      },
      "execution_count": 24,
      "outputs": [
        {
          "output_type": "execute_result",
          "data": {
            "text/plain": [
              "['blue', 'is', 'Sky']"
            ]
          },
          "metadata": {},
          "execution_count": 24
        }
      ]
    },
    {
      "cell_type": "code",
      "source": [
        "word.split()[::-1]"
      ],
      "metadata": {
        "colab": {
          "base_uri": "https://localhost:8080/"
        },
        "id": "bkxMyxt7Jwg5",
        "outputId": "49cb58c6-13e1-4650-ee43-1a63115b17b9"
      },
      "execution_count": 26,
      "outputs": [
        {
          "output_type": "execute_result",
          "data": {
            "text/plain": [
              "['blue', 'is', 'Sky']"
            ]
          },
          "metadata": {},
          "execution_count": 26
        }
      ]
    },
    {
      "cell_type": "code",
      "source": [
        "print(\" \".join(word.split()[::-1]))"
      ],
      "metadata": {
        "colab": {
          "base_uri": "https://localhost:8080/"
        },
        "id": "CTK9eiGWJ2LM",
        "outputId": "59590611-7d36-4108-8792-d2a79f995964"
      },
      "execution_count": 31,
      "outputs": [
        {
          "output_type": "stream",
          "name": "stdout",
          "text": [
            "blue is Sky\n"
          ]
        }
      ]
    },
    {
      "cell_type": "code",
      "source": [
        "list_ = [1,4,5,5,6,6,3,2,3]\n",
        "list_1 = []\n",
        "for i in list_:\n",
        "  if list_.count(i)==1:\n",
        "    list_1.append(i)\n",
        "print(list_1)\n"
      ],
      "metadata": {
        "colab": {
          "base_uri": "https://localhost:8080/"
        },
        "id": "um7AMkhqKIjB",
        "outputId": "d748c4b1-88de-475b-fa89-95f0c7f06462"
      },
      "execution_count": 37,
      "outputs": [
        {
          "output_type": "stream",
          "name": "stdout",
          "text": [
            "[1, 4, 2]\n"
          ]
        }
      ]
    },
    {
      "cell_type": "code",
      "source": [
        "[num for num in list_ if list_.count(num)==1]"
      ],
      "metadata": {
        "colab": {
          "base_uri": "https://localhost:8080/"
        },
        "id": "RExy8EjNOJde",
        "outputId": "2e7299c1-072d-48a3-b2bd-b99117cbad7d"
      },
      "execution_count": 38,
      "outputs": [
        {
          "output_type": "execute_result",
          "data": {
            "text/plain": [
              "[1, 4, 2]"
            ]
          },
          "metadata": {},
          "execution_count": 38
        }
      ]
    },
    {
      "cell_type": "code",
      "source": [
        "list_2 = [1,1,2,3,3,3,6,5,4,5,6,5,4,7,4,8,5,6,9,6]\n",
        "# list_2 = list_2.split(',')\n",
        "watched = []\n",
        "for num in list_2:\n",
        "  if num not in watched:\n",
        "    print(f\"{num}:{list_2.count(num)}\",end=\",\")\n",
        "    watched.append(num)\n",
        "\n"
      ],
      "metadata": {
        "colab": {
          "base_uri": "https://localhost:8080/"
        },
        "id": "fr957Vr5Mfgv",
        "outputId": "793e7730-4f7a-4d98-8bc9-e2490fa1dd0d"
      },
      "execution_count": 44,
      "outputs": [
        {
          "output_type": "stream",
          "name": "stdout",
          "text": [
            "1:2,2:1,3:3,6:4,5:4,4:3,7:1,8:1,9:1,"
          ]
        }
      ]
    },
    {
      "cell_type": "code",
      "source": [
        "num=[]\n",
        "count=[]\n",
        "for i in list_2:\n",
        "  if i not in num:\n",
        "    num.append(i)\n",
        "    count.append(list_2.count(i))\n",
        "dict(zip(num,count))\n",
        "    "
      ],
      "metadata": {
        "colab": {
          "base_uri": "https://localhost:8080/"
        },
        "id": "hvATjiDPQHxQ",
        "outputId": "a85f4249-c268-4974-9769-cf820ec5e514"
      },
      "execution_count": 45,
      "outputs": [
        {
          "output_type": "execute_result",
          "data": {
            "text/plain": [
              "{1: 2, 2: 1, 3: 3, 6: 4, 5: 4, 4: 3, 7: 1, 8: 1, 9: 1}"
            ]
          },
          "metadata": {},
          "execution_count": 45
        }
      ]
    },
    {
      "cell_type": "code",
      "source": [],
      "metadata": {
        "id": "9wgGL-TgSLe-"
      },
      "execution_count": 44,
      "outputs": []
    },
    {
      "cell_type": "code",
      "source": [],
      "metadata": {
        "id": "0IUTCKR-Vc1n"
      },
      "execution_count": null,
      "outputs": []
    }
  ]
}