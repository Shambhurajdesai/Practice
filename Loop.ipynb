{
  "nbformat": 4,
  "nbformat_minor": 0,
  "metadata": {
    "colab": {
      "provenance": [],
      "authorship_tag": "ABX9TyP3ZtSpZYciJYBo9BiRxzA+",
      "include_colab_link": true
    },
    "kernelspec": {
      "name": "python3",
      "display_name": "Python 3"
    },
    "language_info": {
      "name": "python"
    }
  },
  "cells": [
    {
      "cell_type": "markdown",
      "metadata": {
        "id": "view-in-github",
        "colab_type": "text"
      },
      "source": [
        "<a href=\"https://colab.research.google.com/github/Shambhurajdesai/Practice/blob/main/Loop.ipynb\" target=\"_parent\"><img src=\"https://colab.research.google.com/assets/colab-badge.svg\" alt=\"Open In Colab\"/></a>"
      ]
    },
    {
      "cell_type": "code",
      "execution_count": null,
      "metadata": {
        "colab": {
          "base_uri": "https://localhost:8080/"
        },
        "id": "j38b0EigKjAu",
        "outputId": "e829e8c1-a2e4-4c44-b9ec-3d649c5d13d5"
      },
      "outputs": [
        {
          "output_type": "stream",
          "name": "stdout",
          "text": [
            "1\n",
            "2\n",
            "3\n",
            "4\n",
            "5\n",
            "6\n",
            "7\n",
            "8\n",
            "9\n",
            "10\n"
          ]
        }
      ],
      "source": [
        "# 1: Print First 10 natural numbers using while loop\n",
        "i=1\n",
        "n=11\n",
        "while(i<n):\n",
        "  print(i)\n",
        "  i=i+1"
      ]
    },
    {
      "cell_type": "code",
      "source": [
        "#Print the following pattern\n",
        "# Write a program to print the following number pattern using a loop.\n",
        "# 1 \n",
        "# 1 2 \n",
        "# 1 2 3 \n",
        "# 1 2 3 4 \n",
        "# 1 2 3 4 5\n",
        "\n",
        "\n",
        "# Decide the row count. (above pattern contains 5 rows)\n",
        "row = 5\n",
        "# start: 1\n",
        "# stop: row+1 (range never include stop number in result)\n",
        "# step: 1\n",
        "# run loop 5 times\n",
        "for i in range(1, row + 1, 1):\n",
        "    # Run inner loop i+1 times\n",
        "    for j in range(1, i + 1):\n",
        "        print(j, end=' ')\n",
        "    # empty line after each row\n",
        "    print(\"\")"
      ],
      "metadata": {
        "colab": {
          "base_uri": "https://localhost:8080/"
        },
        "id": "I5F0PO-DKr7_",
        "outputId": "a9788f24-e51d-4d36-987d-06a6fbb04f00"
      },
      "execution_count": null,
      "outputs": [
        {
          "output_type": "stream",
          "name": "stdout",
          "text": [
            "1 \n",
            "1 2 \n",
            "1 2 3 \n",
            "1 2 3 4 \n",
            "1 2 3 4 5 \n"
          ]
        }
      ]
    },
    {
      "cell_type": "code",
      "source": [
        "# Calculate the sum of all numbers from 1 to a given number\n",
        "# Write a program to accept a number from a user and calculate the sum of all numbers from 1 to a given number\n",
        "\n",
        "# For example, if the user entered 10 the output should be 55 (1+2+3+4+5+6+7+8+9+10)\n",
        "\n",
        "# Expected Output:\n",
        "\n",
        "# Enter number 10\n",
        "# Sum is:  55\n",
        "sum = 0\n",
        "for i in range(int(input())):\n",
        "  sum = sum+i\n",
        "print(sum)"
      ],
      "metadata": {
        "colab": {
          "base_uri": "https://localhost:8080/"
        },
        "id": "LNoOsQV8L6hY",
        "outputId": "1af950f2-5d41-45e2-d03a-9281fd0f0690"
      },
      "execution_count": null,
      "outputs": [
        {
          "output_type": "stream",
          "name": "stdout",
          "text": [
            "11\n",
            "55\n"
          ]
        }
      ]
    },
    {
      "cell_type": "code",
      "source": [
        "#Write a program to print multiplication table of a given number\n",
        "i = int(input())\n",
        "for j in range(1,11):\n",
        "    print(i*j)"
      ],
      "metadata": {
        "colab": {
          "base_uri": "https://localhost:8080/"
        },
        "id": "9gu3AFc6Sh0R",
        "outputId": "0daea0a3-ad1a-47ab-834a-cdd6d925ba55"
      },
      "execution_count": null,
      "outputs": [
        {
          "output_type": "stream",
          "name": "stdout",
          "text": [
            "11\n",
            "11\n",
            "22\n",
            "33\n",
            "44\n",
            "55\n",
            "66\n",
            "77\n",
            "88\n",
            "99\n",
            "110\n"
          ]
        }
      ]
    },
    {
      "cell_type": "code",
      "source": [
        "# #Display numbers from a list using loop\n",
        "# Write a program to display only those numbers from a list that satisfy the following conditions\n",
        "\n",
        "# The number must be divisible by five\n",
        "# If the number is greater than 150, then skip it and move to the next number\n",
        "# If the number is greater than 500, then stop the loop \n",
        "\n",
        "list_ = [12, 75, 150, 180, 145, 525, 50]\n",
        "l = []\n",
        "for i in list_:\n",
        "  if i > 500:\n",
        "    break\n",
        "  elif i > 150:\n",
        "    continue\n",
        "  elif i%5==0:\n",
        "    l.append(i)\n",
        "print(l)\n",
        "    "
      ],
      "metadata": {
        "colab": {
          "base_uri": "https://localhost:8080/"
        },
        "id": "5p1ejLkmTwy5",
        "outputId": "5299e82c-f738-46d6-a7f1-7abdeba74422"
      },
      "execution_count": null,
      "outputs": [
        {
          "output_type": "stream",
          "name": "stdout",
          "text": [
            "[75, 150, 145]\n"
          ]
        }
      ]
    },
    {
      "cell_type": "code",
      "source": [
        "#Count the total number of digits in a number\n",
        "#Write a program to count the total number of digits in a number using a while loop.\n",
        "\n",
        "#For example, the number is 75869, so the output should be 5.\n",
        "number = int(input())\n",
        "string = str(number)\n",
        "print(len(string))\n"
      ],
      "metadata": {
        "colab": {
          "base_uri": "https://localhost:8080/"
        },
        "id": "y8vPdjsRVGXq",
        "outputId": "4ec2c378-0a90-4fa9-c937-ae1f54ac734d"
      },
      "execution_count": null,
      "outputs": [
        {
          "output_type": "stream",
          "name": "stdout",
          "text": [
            "6545413\n",
            "7\n"
          ]
        }
      ]
    },
    {
      "cell_type": "code",
      "source": [
        "n = int(input())\n",
        "count = 0\n",
        "while n != 0:\n",
        "  n = n//10\n",
        "  count = count+1\n",
        "print('Total digits are:', count)"
      ],
      "metadata": {
        "colab": {
          "base_uri": "https://localhost:8080/"
        },
        "id": "fFmpvjPwVjeV",
        "outputId": "1e4a6495-4702-428f-e203-42d5256e6346"
      },
      "execution_count": null,
      "outputs": [
        {
          "output_type": "stream",
          "name": "stdout",
          "text": [
            "1546512\n",
            "Total digits are: 7\n"
          ]
        }
      ]
    },
    {
      "cell_type": "code",
      "source": [
        "100//10"
      ],
      "metadata": {
        "colab": {
          "base_uri": "https://localhost:8080/"
        },
        "id": "AtAtAceHXCYm",
        "outputId": "3dac55e5-4be3-4c3a-bc6f-67ba0d9ce40d"
      },
      "execution_count": null,
      "outputs": [
        {
          "output_type": "execute_result",
          "data": {
            "text/plain": [
              "10"
            ]
          },
          "metadata": {},
          "execution_count": 32
        }
      ]
    },
    {
      "cell_type": "code",
      "source": [
        "100/10"
      ],
      "metadata": {
        "colab": {
          "base_uri": "https://localhost:8080/"
        },
        "id": "skUot9QjXQTU",
        "outputId": "1ab41645-7e50-48bb-dafe-505c5bf2d88f"
      },
      "execution_count": null,
      "outputs": [
        {
          "output_type": "execute_result",
          "data": {
            "text/plain": [
              "10.0"
            ]
          },
          "metadata": {},
          "execution_count": 33
        }
      ]
    },
    {
      "cell_type": "code",
      "source": [
        "100%10"
      ],
      "metadata": {
        "colab": {
          "base_uri": "https://localhost:8080/"
        },
        "id": "gQldJpjRXRmF",
        "outputId": "caad0e96-00bd-4442-e4be-afeb8b93fb68"
      },
      "execution_count": null,
      "outputs": [
        {
          "output_type": "execute_result",
          "data": {
            "text/plain": [
              "0"
            ]
          },
          "metadata": {},
          "execution_count": 34
        }
      ]
    },
    {
      "cell_type": "code",
      "source": [
        "10/3"
      ],
      "metadata": {
        "colab": {
          "base_uri": "https://localhost:8080/"
        },
        "id": "ARmAjBcAY2M2",
        "outputId": "28cfe93d-1517-41b8-a4f2-8e23da6bc462"
      },
      "execution_count": null,
      "outputs": [
        {
          "output_type": "execute_result",
          "data": {
            "text/plain": [
              "3.3333333333333335"
            ]
          },
          "metadata": {},
          "execution_count": 41
        }
      ]
    },
    {
      "cell_type": "code",
      "source": [
        "import math as m\n",
        "m.floor(10/3)\n"
      ],
      "metadata": {
        "colab": {
          "base_uri": "https://localhost:8080/"
        },
        "id": "M_39E4INXVMT",
        "outputId": "2fdb44f6-c7a6-4e24-f61e-28b0196445a6"
      },
      "execution_count": null,
      "outputs": [
        {
          "output_type": "execute_result",
          "data": {
            "text/plain": [
              "3"
            ]
          },
          "metadata": {},
          "execution_count": 39
        }
      ]
    },
    {
      "cell_type": "code",
      "source": [
        "m.ceil(10/3)"
      ],
      "metadata": {
        "colab": {
          "base_uri": "https://localhost:8080/"
        },
        "id": "PrLyaxrpXY0W",
        "outputId": "64f04335-4e21-4719-ce1c-65339797b5dd"
      },
      "execution_count": null,
      "outputs": [
        {
          "output_type": "execute_result",
          "data": {
            "text/plain": [
              "4"
            ]
          },
          "metadata": {},
          "execution_count": 40
        }
      ]
    },
    {
      "cell_type": "code",
      "source": [
        "#Print the following pattern\n",
        "# Write a program to use for loop to print the following reverse number pattern\n",
        "# 5 4 3 2 1 \n",
        "# 4 3 2 1 \n",
        "# 3 2 1 \n",
        "# 2 1 \n",
        "# 1\n",
        "\n",
        "n = 5\n",
        "k = 5\n",
        "for i in range(0,n+1):\n",
        "    for j in range(k-i,0,-1):\n",
        "        print(j,end=' ')\n",
        "    print()"
      ],
      "metadata": {
        "colab": {
          "base_uri": "https://localhost:8080/"
        },
        "id": "g0K2QnsMYztJ",
        "outputId": "533a7e25-9bea-4983-d454-afb7d720159a"
      },
      "execution_count": null,
      "outputs": [
        {
          "output_type": "stream",
          "name": "stdout",
          "text": [
            "5 4 3 2 1 \n",
            "4 3 2 1 \n",
            "3 2 1 \n",
            "2 1 \n",
            "1 \n",
            "\n"
          ]
        }
      ]
    },
    {
      "cell_type": "code",
      "source": [],
      "metadata": {
        "id": "vdDPoiGmZyEM"
      },
      "execution_count": null,
      "outputs": []
    },
    {
      "cell_type": "code",
      "source": [],
      "metadata": {
        "id": "bnAuzxiXZ0fD"
      },
      "execution_count": null,
      "outputs": []
    }
  ]
}