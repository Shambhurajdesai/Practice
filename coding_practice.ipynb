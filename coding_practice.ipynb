{
  "nbformat": 4,
  "nbformat_minor": 0,
  "metadata": {
    "colab": {
      "provenance": [],
      "authorship_tag": "ABX9TyMKCm5zsi3DNQmsy4GGmxqr",
      "include_colab_link": true
    },
    "kernelspec": {
      "name": "python3",
      "display_name": "Python 3"
    },
    "language_info": {
      "name": "python"
    }
  },
  "cells": [
    {
      "cell_type": "markdown",
      "metadata": {
        "id": "view-in-github",
        "colab_type": "text"
      },
      "source": [
        "<a href=\"https://colab.research.google.com/github/Shambhurajdesai/Practice/blob/main/coding_practice.ipynb\" target=\"_parent\"><img src=\"https://colab.research.google.com/assets/colab-badge.svg\" alt=\"Open In Colab\"/></a>"
      ]
    },
    {
      "cell_type": "code",
      "source": [
        "#simple palindrom split method\n",
        "word = input(str())\n",
        "if word == word[::-1]:\n",
        "  print(f'{word} is Pallindrome')"
      ],
      "metadata": {
        "id": "mWSayZaKlOVf",
        "colab": {
          "base_uri": "https://localhost:8080/"
        },
        "outputId": "ddcee8a1-5156-4e1f-e75e-ccaec96cab64"
      },
      "execution_count": null,
      "outputs": [
        {
          "output_type": "stream",
          "name": "stdout",
          "text": [
            "madam\n",
            "madam is Pallindrome\n"
          ]
        }
      ]
    },
    {
      "cell_type": "code",
      "source": [
        "#palindrom using function \n",
        "def palindrom(s):\n",
        "  word = s[::-1]\n",
        "  if s==word:\n",
        "    print(f'Yes..! {s} is a Palindrom')\n",
        "  else:\n",
        "    print(f'No..! {s} is not a Palindrom')"
      ],
      "metadata": {
        "id": "pdZDXe52we9t"
      },
      "execution_count": 7,
      "outputs": []
    },
    {
      "cell_type": "code",
      "source": [
        "palindrom(\"shambhuraj\")"
      ],
      "metadata": {
        "colab": {
          "base_uri": "https://localhost:8080/"
        },
        "id": "J4dXyHb1wysM",
        "outputId": "6fa0294d-06f7-4d06-969d-6b0bbdaa1e52"
      },
      "execution_count": 8,
      "outputs": [
        {
          "output_type": "stream",
          "name": "stdout",
          "text": [
            "No..! shambhuraj is not a Palindrom\n"
          ]
        }
      ]
    },
    {
      "cell_type": "code",
      "source": [
        "#palindrom usning indexing\n",
        "def palindrom2(s):\n",
        "  n = len(s)\n",
        "  for i in range(n):\n",
        "    if s[i] != s[n-i-1]:\n",
        "      return False\n",
        "  return True"
      ],
      "metadata": {
        "id": "MrJFyRtbxfdd"
      },
      "execution_count": 19,
      "outputs": []
    },
    {
      "cell_type": "code",
      "source": [
        "palindrom2(\"nitin\")"
      ],
      "metadata": {
        "colab": {
          "base_uri": "https://localhost:8080/"
        },
        "id": "gz0ct_1rx-_X",
        "outputId": "aaa24eca-4fa1-477e-a77f-b56462324f12"
      },
      "execution_count": 21,
      "outputs": [
        {
          "output_type": "execute_result",
          "data": {
            "text/plain": [
              "True"
            ]
          },
          "metadata": {},
          "execution_count": 21
        }
      ]
    },
    {
      "cell_type": "code",
      "source": [
        "#using reversed and join inbuild functions\n",
        "def palindrom3(s):\n",
        "  reverse_s = reversed(s)\n",
        " \n",
        "  temp = ''.join(reverse_s)\n",
        "  if s == temp:\n",
        "    print(f'Yes..! {s} is Palindrom')\n",
        "  else:\n",
        "    print(f'No..! {s} is not Palindrom')"
      ],
      "metadata": {
        "id": "C9_Ln2-zzw_M"
      },
      "execution_count": 35,
      "outputs": []
    },
    {
      "cell_type": "code",
      "source": [
        "palindrom3('NitiN')"
      ],
      "metadata": {
        "colab": {
          "base_uri": "https://localhost:8080/"
        },
        "id": "TobHHwlu0Hqe",
        "outputId": "438b3efc-959c-4346-a25c-2d28e72bead2"
      },
      "execution_count": 39,
      "outputs": [
        {
          "output_type": "stream",
          "name": "stdout",
          "text": [
            "Yes..! NitiN is Palindrom\n"
          ]
        }
      ]
    },
    {
      "cell_type": "code",
      "source": [
        "#palindrom using while loop\n",
        "def palindrom4(s):\n",
        "  n = len(s)\n",
        "  first = 0\n",
        "  last = n-1\n",
        "  while (first<last):\n",
        "    if s[first] == s[last]:\n",
        "      first += 1\n",
        "      last -=1\n",
        "    else:\n",
        "      return False\n",
        "    return True"
      ],
      "metadata": {
        "id": "it7P_eTT0Hll"
      },
      "execution_count": 40,
      "outputs": []
    },
    {
      "cell_type": "code",
      "source": [
        "palindrom4(\"shambhuraj\")"
      ],
      "metadata": {
        "colab": {
          "base_uri": "https://localhost:8080/"
        },
        "id": "GcZ7fW5Z0HNg",
        "outputId": "58cc9475-685a-4256-aeda-e5160f9a226b"
      },
      "execution_count": 42,
      "outputs": [
        {
          "output_type": "execute_result",
          "data": {
            "text/plain": [
              "False"
            ]
          },
          "metadata": {},
          "execution_count": 42
        }
      ]
    },
    {
      "cell_type": "code",
      "source": [],
      "metadata": {
        "id": "AkXRPyIP3AK7"
      },
      "execution_count": null,
      "outputs": []
    },
    {
      "cell_type": "code",
      "source": [
        "word = 'madam'\n",
        "n = len(word)\n",
        "for i in range(0,n):\n",
        "  if word == word[::-1]:\n",
        "    print(\"Yes..! \")\n",
        "  else:\n",
        "    print(\"No..!\")"
      ],
      "metadata": {
        "colab": {
          "base_uri": "https://localhost:8080/"
        },
        "id": "wmSr3Ovk3AiQ",
        "outputId": "a0fbee24-e469-488e-871f-19db18a229ca"
      },
      "execution_count": 1,
      "outputs": [
        {
          "output_type": "stream",
          "name": "stdout",
          "text": [
            "Yes..! \n",
            "Yes..! \n",
            "Yes..! \n",
            "Yes..! \n",
            "Yes..! \n"
          ]
        }
      ]
    },
    {
      "cell_type": "code",
      "source": [],
      "metadata": {
        "id": "faUnqvuO3AlO"
      },
      "execution_count": null,
      "outputs": []
    },
    {
      "cell_type": "code",
      "source": [
        "#numeric palindrom\n",
        "def palindrom5(s):\n",
        "  temp = s\n",
        "  rev_s = 0\n",
        "  while (temp>0):\n",
        "    digit = temp%10\n",
        "    rev_s = rev_s*10+digit\n",
        "    temp = temp // 10\n",
        "  if s == rev_s:\n",
        "    print(\"Yes... number is palindrom\")\n",
        "  else:\n",
        "    print(\"No... number is not palindrom\")\n"
      ],
      "metadata": {
        "id": "IW4NpEYHLckp"
      },
      "execution_count": 6,
      "outputs": []
    },
    {
      "cell_type": "code",
      "source": [
        "palindrom5(12321)"
      ],
      "metadata": {
        "colab": {
          "base_uri": "https://localhost:8080/"
        },
        "id": "2s-CN-kDLcot",
        "outputId": "0d0900bb-760b-4b85-ae08-b6bc9a98bce2"
      },
      "execution_count": 9,
      "outputs": [
        {
          "output_type": "stream",
          "name": "stdout",
          "text": [
            "Yes... number is palindrom\n"
          ]
        }
      ]
    },
    {
      "cell_type": "code",
      "source": [
        "n=10\n",
        "for i in range(1,n+1):\n",
        "  if i > 0:\n",
        "    print(i)"
      ],
      "metadata": {
        "colab": {
          "base_uri": "https://localhost:8080/"
        },
        "id": "w1M9AN8DG1X2",
        "outputId": "669bf3ab-2ac6-4e61-d415-a9d66d611b06"
      },
      "execution_count": null,
      "outputs": [
        {
          "output_type": "stream",
          "name": "stdout",
          "text": [
            "1\n",
            "2\n",
            "3\n",
            "4\n",
            "5\n",
            "6\n",
            "7\n",
            "8\n",
            "9\n",
            "10\n"
          ]
        }
      ]
    },
    {
      "cell_type": "code",
      "source": [
        "word = 'Sky is blue'\n",
        "print(word[::-1])"
      ],
      "metadata": {
        "colab": {
          "base_uri": "https://localhost:8080/"
        },
        "id": "FwZR4UDPHJzg",
        "outputId": "09d3fe5d-3d38-4270-bc68-fafeaf93c3dd"
      },
      "execution_count": null,
      "outputs": [
        {
          "output_type": "stream",
          "name": "stdout",
          "text": [
            "eulb si ykS\n"
          ]
        }
      ]
    },
    {
      "cell_type": "code",
      "source": [
        "mylist = word.split()\n",
        "mylist = mylist[::-1]"
      ],
      "metadata": {
        "id": "BjG7_3fGJDLl"
      },
      "execution_count": null,
      "outputs": []
    },
    {
      "cell_type": "code",
      "source": [
        "mylist"
      ],
      "metadata": {
        "colab": {
          "base_uri": "https://localhost:8080/"
        },
        "id": "f2najHvmJvC9",
        "outputId": "a0f034ef-abb1-4f64-a611-9050fb2c0b27"
      },
      "execution_count": null,
      "outputs": [
        {
          "output_type": "execute_result",
          "data": {
            "text/plain": [
              "['blue', 'is', 'Sky']"
            ]
          },
          "metadata": {},
          "execution_count": 24
        }
      ]
    },
    {
      "cell_type": "code",
      "source": [
        "word.split()[::-1]"
      ],
      "metadata": {
        "colab": {
          "base_uri": "https://localhost:8080/"
        },
        "id": "bkxMyxt7Jwg5",
        "outputId": "49cb58c6-13e1-4650-ee43-1a63115b17b9"
      },
      "execution_count": null,
      "outputs": [
        {
          "output_type": "execute_result",
          "data": {
            "text/plain": [
              "['blue', 'is', 'Sky']"
            ]
          },
          "metadata": {},
          "execution_count": 26
        }
      ]
    },
    {
      "cell_type": "code",
      "source": [
        "print(\" \".join(word.split()[::-1]))"
      ],
      "metadata": {
        "colab": {
          "base_uri": "https://localhost:8080/"
        },
        "id": "CTK9eiGWJ2LM",
        "outputId": "59590611-7d36-4108-8792-d2a79f995964"
      },
      "execution_count": null,
      "outputs": [
        {
          "output_type": "stream",
          "name": "stdout",
          "text": [
            "blue is Sky\n"
          ]
        }
      ]
    },
    {
      "cell_type": "code",
      "source": [
        "list_ = [1,4,5,5,6,6,3,2,3]\n",
        "list_1 = []\n",
        "for i in list_:\n",
        "  if list_.count(i)==1:\n",
        "    list_1.append(i)\n",
        "print(list_1)\n"
      ],
      "metadata": {
        "colab": {
          "base_uri": "https://localhost:8080/"
        },
        "id": "um7AMkhqKIjB",
        "outputId": "d748c4b1-88de-475b-fa89-95f0c7f06462"
      },
      "execution_count": null,
      "outputs": [
        {
          "output_type": "stream",
          "name": "stdout",
          "text": [
            "[1, 4, 2]\n"
          ]
        }
      ]
    },
    {
      "cell_type": "code",
      "source": [
        "[num for num in list_ if list_.count(num)==1]"
      ],
      "metadata": {
        "colab": {
          "base_uri": "https://localhost:8080/"
        },
        "id": "RExy8EjNOJde",
        "outputId": "2e7299c1-072d-48a3-b2bd-b99117cbad7d"
      },
      "execution_count": null,
      "outputs": [
        {
          "output_type": "execute_result",
          "data": {
            "text/plain": [
              "[1, 4, 2]"
            ]
          },
          "metadata": {},
          "execution_count": 38
        }
      ]
    },
    {
      "cell_type": "code",
      "source": [
        "list_2 = [1,1,2,3,3,3,6,5,4,5,6,5,4,7,4,8,5,6,9,6]\n",
        "# list_2 = list_2.split(',')\n",
        "watched = []\n",
        "for num in list_2:\n",
        "  if num not in watched:\n",
        "    print(f\"{num}:{list_2.count(num)}\",end=\",\")\n",
        "    watched.append(num)\n",
        "\n"
      ],
      "metadata": {
        "colab": {
          "base_uri": "https://localhost:8080/"
        },
        "id": "fr957Vr5Mfgv",
        "outputId": "793e7730-4f7a-4d98-8bc9-e2490fa1dd0d"
      },
      "execution_count": null,
      "outputs": [
        {
          "output_type": "stream",
          "name": "stdout",
          "text": [
            "1:2,2:1,3:3,6:4,5:4,4:3,7:1,8:1,9:1,"
          ]
        }
      ]
    },
    {
      "cell_type": "code",
      "source": [
        "num=[]\n",
        "count=[]\n",
        "for i in list_2:\n",
        "  if i not in num:\n",
        "    num.append(i)\n",
        "    count.append(list_2.count(i))\n",
        "dict(zip(num,count))\n",
        "    "
      ],
      "metadata": {
        "colab": {
          "base_uri": "https://localhost:8080/"
        },
        "id": "hvATjiDPQHxQ",
        "outputId": "a85f4249-c268-4974-9769-cf820ec5e514"
      },
      "execution_count": null,
      "outputs": [
        {
          "output_type": "execute_result",
          "data": {
            "text/plain": [
              "{1: 2, 2: 1, 3: 3, 6: 4, 5: 4, 4: 3, 7: 1, 8: 1, 9: 1}"
            ]
          },
          "metadata": {},
          "execution_count": 45
        }
      ]
    },
    {
      "cell_type": "code",
      "source": [],
      "metadata": {
        "id": "9wgGL-TgSLe-"
      },
      "execution_count": null,
      "outputs": []
    },
    {
      "cell_type": "code",
      "source": [
        "a = []\n",
        "size = int(input(\"Size of the list :\"))\n",
        "for i in range(size):\n",
        "  val = int(input(\"Enter the number :\"))\n",
        "  a.append(val)\n",
        "print(\"Original list :\",a)\n",
        "\n",
        "key = a[0]\n",
        "for i in range(1,size):\n",
        "  a[i-1] = a[i]\n",
        "a[size-1] = key\n",
        "print(\"List after shifting :\",a)   "
      ],
      "metadata": {
        "colab": {
          "base_uri": "https://localhost:8080/"
        },
        "id": "0IUTCKR-Vc1n",
        "outputId": "86388934-84c1-4789-f042-11ec1294cc9c"
      },
      "execution_count": null,
      "outputs": [
        {
          "output_type": "stream",
          "name": "stdout",
          "text": [
            "Size of the list :5\n",
            "Enter the number :10\n",
            "Enter the number :15\n",
            "Enter the number :20\n",
            "Enter the number :25\n",
            "Enter the number :30\n",
            "Original list : [10, 15, 20, 25, 30]\n",
            "List after shifting : [15, 20, 25, 30, 10]\n"
          ]
        }
      ]
    },
    {
      "cell_type": "code",
      "source": [
        "a = []\n",
        "size = int(input(\"Size of the list :\"))\n",
        "for i in range(size):\n",
        "  val = int(input(\"Enter the number :\"))\n",
        "  a.append(val)\n",
        "print(\"Original list :\",a)\n",
        "\n",
        "key = a[-1]\n",
        "for i in range(size-2,-1,-1):\n",
        "  a[i+1] = a[i]\n",
        "a[0] = key\n",
        "print(a)"
      ],
      "metadata": {
        "colab": {
          "base_uri": "https://localhost:8080/"
        },
        "id": "6ApbG3H5dFzH",
        "outputId": "174bf9ba-61de-4d09-e8af-766b60741757"
      },
      "execution_count": null,
      "outputs": [
        {
          "output_type": "stream",
          "name": "stdout",
          "text": [
            "Size of the list :5\n",
            "Enter the number :1\n",
            "Enter the number :2\n",
            "Enter the number :3\n",
            "Enter the number :4\n",
            "Enter the number :5\n",
            "Original list : [1, 2, 3, 4, 5]\n",
            "[5, 1, 2, 3, 4]\n"
          ]
        }
      ]
    },
    {
      "cell_type": "code",
      "source": [],
      "metadata": {
        "id": "MU5dRG7FegbG"
      },
      "execution_count": null,
      "outputs": []
    },
    {
      "cell_type": "code",
      "source": [
        "list1 = [10,15,20,25,30]\n",
        "# for i in range(1,len(list1)):\n",
        "list1[0],list1[-1] = list1[-1],list1[0]\n",
        "print(list1)"
      ],
      "metadata": {
        "colab": {
          "base_uri": "https://localhost:8080/"
        },
        "id": "K2qhF1vWcVmv",
        "outputId": "429a0a94-92f3-4264-cfee-d1a03e1b7b02"
      },
      "execution_count": null,
      "outputs": [
        {
          "output_type": "stream",
          "name": "stdout",
          "text": [
            "[30, 15, 20, 25, 10]\n"
          ]
        }
      ]
    },
    {
      "cell_type": "code",
      "source": [
        "@decorator_func\n",
        "def display():\n",
        "  print('display worked')\n",
        "display()"
      ],
      "metadata": {
        "colab": {
          "base_uri": "https://localhost:8080/",
          "height": 219
        },
        "id": "0WogHj4jc1kv",
        "outputId": "f6d82841-8703-428b-f12a-de0a2fbca115"
      },
      "execution_count": null,
      "outputs": [
        {
          "output_type": "error",
          "ename": "NameError",
          "evalue": "ignored",
          "traceback": [
            "\u001b[0;31m---------------------------------------------------------------------------\u001b[0m",
            "\u001b[0;31mNameError\u001b[0m                                 Traceback (most recent call last)",
            "\u001b[0;32m<ipython-input-64-82954ccb07c0>\u001b[0m in \u001b[0;36m<module>\u001b[0;34m\u001b[0m\n\u001b[0;32m----> 1\u001b[0;31m \u001b[0;34m@\u001b[0m\u001b[0mdecorator_func\u001b[0m\u001b[0;34m\u001b[0m\u001b[0;34m\u001b[0m\u001b[0m\n\u001b[0m\u001b[1;32m      2\u001b[0m \u001b[0;32mdef\u001b[0m \u001b[0mdisplay\u001b[0m\u001b[0;34m(\u001b[0m\u001b[0;34m)\u001b[0m\u001b[0;34m:\u001b[0m\u001b[0;34m\u001b[0m\u001b[0;34m\u001b[0m\u001b[0m\n\u001b[1;32m      3\u001b[0m   \u001b[0mprint\u001b[0m\u001b[0;34m(\u001b[0m\u001b[0;34m'display worked'\u001b[0m\u001b[0;34m)\u001b[0m\u001b[0;34m\u001b[0m\u001b[0;34m\u001b[0m\u001b[0m\n\u001b[1;32m      4\u001b[0m \u001b[0mdisplay\u001b[0m\u001b[0;34m(\u001b[0m\u001b[0;34m)\u001b[0m\u001b[0;34m\u001b[0m\u001b[0;34m\u001b[0m\u001b[0m\n",
            "\u001b[0;31mNameError\u001b[0m: name 'decorator_func' is not defined"
          ]
        }
      ]
    },
    {
      "cell_type": "code",
      "source": [
        "10%2"
      ],
      "metadata": {
        "colab": {
          "base_uri": "https://localhost:8080/"
        },
        "id": "_kRhf7AelZlK",
        "outputId": "70a051d8-cbe2-4a33-f34f-87d4b0734ab6"
      },
      "execution_count": null,
      "outputs": [
        {
          "output_type": "execute_result",
          "data": {
            "text/plain": [
              "0"
            ]
          },
          "metadata": {},
          "execution_count": 65
        }
      ]
    },
    {
      "cell_type": "code",
      "source": [
        "10//2"
      ],
      "metadata": {
        "colab": {
          "base_uri": "https://localhost:8080/"
        },
        "id": "L10iPLiIlzba",
        "outputId": "f9d7669a-77db-4668-a456-1654281da45a"
      },
      "execution_count": null,
      "outputs": [
        {
          "output_type": "execute_result",
          "data": {
            "text/plain": [
              "5"
            ]
          },
          "metadata": {},
          "execution_count": 66
        }
      ]
    },
    {
      "cell_type": "code",
      "source": [
        "10/2"
      ],
      "metadata": {
        "colab": {
          "base_uri": "https://localhost:8080/"
        },
        "id": "VkO6_x05l2Dz",
        "outputId": "7b090a13-b380-4552-cee2-b91c02c431b8"
      },
      "execution_count": null,
      "outputs": [
        {
          "output_type": "execute_result",
          "data": {
            "text/plain": [
              "5.0"
            ]
          },
          "metadata": {},
          "execution_count": 67
        }
      ]
    },
    {
      "cell_type": "code",
      "source": [
        "def sqr(n):\n",
        "  for i in range(1,n+1):\n",
        "    yield i*i\n",
        "\n",
        "a=sqr(3)\n",
        "print(next(a))\n",
        "# print(next(a))\n",
        "# print(next(a))"
      ],
      "metadata": {
        "colab": {
          "base_uri": "https://localhost:8080/"
        },
        "id": "acm9FI1ml4Yi",
        "outputId": "9554ca71-dfad-411c-ce58-13f1e24c1078"
      },
      "execution_count": null,
      "outputs": [
        {
          "output_type": "stream",
          "name": "stdout",
          "text": [
            "1\n"
          ]
        }
      ]
    },
    {
      "cell_type": "code",
      "source": [],
      "metadata": {
        "id": "rp-OCdmWqyTL"
      },
      "execution_count": null,
      "outputs": []
    },
    {
      "cell_type": "code",
      "source": [
        "#fibonnaci series\n",
        "def fibonnaci(n):\n",
        "  a,b=0,1\n",
        "  print(a)\n",
        "  while(b<n):\n",
        "    print(b)\n",
        "    c = a+b\n",
        "    a = b\n",
        "    b = c"
      ],
      "metadata": {
        "id": "sgcFYckSPcWn"
      },
      "execution_count": 12,
      "outputs": []
    },
    {
      "cell_type": "code",
      "source": [
        "fibonnaci(150)"
      ],
      "metadata": {
        "colab": {
          "base_uri": "https://localhost:8080/"
        },
        "id": "EaTR9o0pP0kb",
        "outputId": "6aa30f31-996e-499c-8b31-b70c8d08fa9d"
      },
      "execution_count": 14,
      "outputs": [
        {
          "output_type": "stream",
          "name": "stdout",
          "text": [
            "0\n",
            "1\n",
            "1\n",
            "2\n",
            "3\n",
            "5\n",
            "8\n",
            "13\n",
            "21\n",
            "34\n",
            "55\n",
            "89\n",
            "144\n"
          ]
        }
      ]
    },
    {
      "cell_type": "code",
      "source": [
        "#fibonnaci series with only two variavbles\n",
        "def fibonnaci2(n):\n",
        "  a,b = 0,1\n",
        "  print(a)\n",
        "  while(b<n):\n",
        "    print(b)\n",
        "    a,b = b,a+b\n"
      ],
      "metadata": {
        "id": "JkQJEdIyP2vv"
      },
      "execution_count": 15,
      "outputs": []
    },
    {
      "cell_type": "code",
      "source": [
        "fibonnaci2(150)"
      ],
      "metadata": {
        "colab": {
          "base_uri": "https://localhost:8080/"
        },
        "id": "CQeeDalMQ0nx",
        "outputId": "08df625c-bfe8-477e-95aa-7a88ee4eedd6"
      },
      "execution_count": 17,
      "outputs": [
        {
          "output_type": "stream",
          "name": "stdout",
          "text": [
            "0\n",
            "1\n",
            "1\n",
            "2\n",
            "3\n",
            "5\n",
            "8\n",
            "13\n",
            "21\n",
            "34\n",
            "55\n",
            "89\n",
            "144\n"
          ]
        }
      ]
    },
    {
      "cell_type": "code",
      "source": [],
      "metadata": {
        "id": "iNhU2B5_Q3vn"
      },
      "execution_count": null,
      "outputs": []
    }
  ]
}