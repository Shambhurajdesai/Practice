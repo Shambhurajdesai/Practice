{
  "nbformat": 4,
  "nbformat_minor": 0,
  "metadata": {
    "colab": {
      "provenance": [],
      "authorship_tag": "ABX9TyO/TFI+4L4TTF/t7bpaBzti",
      "include_colab_link": true
    },
    "kernelspec": {
      "name": "python3",
      "display_name": "Python 3"
    },
    "language_info": {
      "name": "python"
    }
  },
  "cells": [
    {
      "cell_type": "markdown",
      "metadata": {
        "id": "view-in-github",
        "colab_type": "text"
      },
      "source": [
        "<a href=\"https://colab.research.google.com/github/Shambhurajdesai/Practice/blob/main/List_comprehension_practice.ipynb\" target=\"_parent\"><img src=\"https://colab.research.google.com/assets/colab-badge.svg\" alt=\"Open In Colab\"/></a>"
      ]
    },
    {
      "cell_type": "code",
      "execution_count": 1,
      "metadata": {
        "id": "7bS-Sl39ji5A"
      },
      "outputs": [],
      "source": [
        "#1 Consider the following list and dictionary in your code:\n",
        "a_list = list(range(1, 11))\n",
        "a_dictionary = {1 : 'one',2 : 'two',3 : 'three',4 : 'four',5 : 'five',6 : 'six',7 : 'seven',8 : 'eight',9 : 'nine',10 : 'ten'}"
      ]
    },
    {
      "cell_type": "code",
      "source": [
        "# a) Use a list comprehension that iterates over a_list, prints a list composed of each value in a_list multiplied by 10.\n",
        "multiply = [x*10 for x in a_dictionary.keys()]"
      ],
      "metadata": {
        "id": "WO5dR0uQj2EU"
      },
      "execution_count": 3,
      "outputs": []
    },
    {
      "cell_type": "code",
      "source": [
        "multiply"
      ],
      "metadata": {
        "colab": {
          "base_uri": "https://localhost:8080/"
        },
        "id": "eOg90yRrkPek",
        "outputId": "4960fdf1-3706-4b78-a3fc-9760dc9b3f7e"
      },
      "execution_count": 4,
      "outputs": [
        {
          "output_type": "execute_result",
          "data": {
            "text/plain": [
              "[10, 20, 30, 40, 50, 60, 70, 80, 90, 100]"
            ]
          },
          "metadata": {},
          "execution_count": 4
        }
      ]
    },
    {
      "cell_type": "code",
      "source": [
        "#Use a list comprehension that iterates over a_list, prints a list composed of odd numbers from 1 to 9.\n",
        "odd = [x for x in a_dictionary.keys() if x%2 !=0]\n",
        "odd"
      ],
      "metadata": {
        "colab": {
          "base_uri": "https://localhost:8080/"
        },
        "id": "53EOzAIxkf6n",
        "outputId": "3b2a14c6-94b7-4a58-b359-7cfc43c7c389"
      },
      "execution_count": 6,
      "outputs": [
        {
          "output_type": "execute_result",
          "data": {
            "text/plain": [
              "[1, 3, 5, 7, 9]"
            ]
          },
          "metadata": {},
          "execution_count": 6
        }
      ]
    },
    {
      "cell_type": "code",
      "source": [
        "#(c) Using a list comprehension which iterates over a_list and whose output expression accesses a value \n",
        "# from a dictionary, print a list composed of the text form of each even number from 2 to 10,\n",
        "text = [y for x,y in a_dictionary.items() if x%2==0 ]\n",
        "text"
      ],
      "metadata": {
        "colab": {
          "base_uri": "https://localhost:8080/"
        },
        "id": "qy0IKYd8k3QX",
        "outputId": "4e090960-15f2-4cd8-cc24-a235ece0b62f"
      },
      "execution_count": 8,
      "outputs": [
        {
          "output_type": "execute_result",
          "data": {
            "text/plain": [
              "['two', 'four', 'six', 'eight', 'ten']"
            ]
          },
          "metadata": {},
          "execution_count": 8
        }
      ]
    },
    {
      "cell_type": "code",
      "source": [
        "# (d) Write a function named odd_or_zero which takes one parameter, a number, and returns that number \n",
        "# if it is odd or returns 0 if the number is even. Then using a list comprehension which iterates over \n",
        "# a_list and calls your odd or zero function for each value, print a list like the following:\n",
        "\n",
        "def odd_or_zero(number):\n",
        "  if number%2!=0:\n",
        "    print(number)\n",
        "  else:\n",
        "    print(0)\n",
        "  \n",
        "num = [1,2,3,4,5,6,7,8,9]\n",
        "list_ = [odd_or_zero(i) for i in num ]\n"
      ],
      "metadata": {
        "colab": {
          "base_uri": "https://localhost:8080/"
        },
        "id": "GitnhuQ4lm32",
        "outputId": "060314dc-42e6-429d-e58a-56cce917bc11"
      },
      "execution_count": 12,
      "outputs": [
        {
          "output_type": "stream",
          "name": "stdout",
          "text": [
            "1\n",
            "0\n",
            "3\n",
            "0\n",
            "5\n",
            "0\n",
            "7\n",
            "0\n",
            "9\n"
          ]
        }
      ]
    },
    {
      "cell_type": "code",
      "source": [
        "#(e) Prompt the user for a number, which will be returned from input as a string data type.\n",
        "#  Strings can be iterated over like lists, such that the loop repeats for each character in the string. \n",
        "#  Using a list comprehension which iterates over the user-entered string and whose output expression accesses\n",
        "#  values from a_dictionary, print a list of the text form of each digit from the user-entered string, \n",
        "\n",
        "number = input('input a number: ')\n",
        "[a_dictionary[int(number)] for number in number]\n"
      ],
      "metadata": {
        "colab": {
          "base_uri": "https://localhost:8080/"
        },
        "id": "yBqsdEPfmu-5",
        "outputId": "b791483e-747b-46f4-c32a-ee9b24976ed2"
      },
      "execution_count": 14,
      "outputs": [
        {
          "name": "stdout",
          "output_type": "stream",
          "text": [
            "input a number: 195\n"
          ]
        },
        {
          "output_type": "execute_result",
          "data": {
            "text/plain": [
              "['one', 'nine', 'five']"
            ]
          },
          "metadata": {},
          "execution_count": 14
        }
      ]
    },
    {
      "cell_type": "code",
      "source": [
        "\n",
        "[y for x,y in a_dictionary.items()]"
      ],
      "metadata": {
        "colab": {
          "base_uri": "https://localhost:8080/"
        },
        "id": "r70-29FmoU5t",
        "outputId": "511cb013-6a42-49e1-c72c-3207fc5984b5"
      },
      "execution_count": 21,
      "outputs": [
        {
          "output_type": "execute_result",
          "data": {
            "text/plain": [
              "['one', 'two', 'three', 'four', 'five', 'six', 'seven', 'eight', 'nine', 'ten']"
            ]
          },
          "metadata": {},
          "execution_count": 21
        }
      ]
    },
    {
      "cell_type": "code",
      "source": [],
      "metadata": {
        "id": "mxZ4WpGyo8ll"
      },
      "execution_count": null,
      "outputs": []
    }
  ]
}