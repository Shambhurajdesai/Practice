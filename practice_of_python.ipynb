{
  "nbformat": 4,
  "nbformat_minor": 0,
  "metadata": {
    "colab": {
      "provenance": [],
      "authorship_tag": "ABX9TyN4E9Rne21rMi9Yjeca0Byf",
      "include_colab_link": true
    },
    "kernelspec": {
      "name": "python3",
      "display_name": "Python 3"
    },
    "language_info": {
      "name": "python"
    }
  },
  "cells": [
    {
      "cell_type": "markdown",
      "metadata": {
        "id": "view-in-github",
        "colab_type": "text"
      },
      "source": [
        "<a href=\"https://colab.research.google.com/github/Shambhurajdesai/Practice/blob/main/practice_of_python.ipynb\" target=\"_parent\"><img src=\"https://colab.research.google.com/assets/colab-badge.svg\" alt=\"Open In Colab\"/></a>"
      ]
    },
    {
      "cell_type": "code",
      "execution_count": null,
      "metadata": {
        "id": "bobZ2CDz7P6w"
      },
      "outputs": [],
      "source": [
        "dict_ = {\"f\": 1, \"o\": 2,\"s\":10}\n",
        "\n"
      ]
    },
    {
      "cell_type": "code",
      "source": [
        "# list_ = ''\n",
        "# for key,value in dict_.items():\n",
        "  # for i in range(value+1):\n",
        "print(' '.join(key for key,value in dict_.items() for _ in range(value)))\n",
        "\n",
        "\n",
        "# print(list_)\n",
        "  "
      ],
      "metadata": {
        "colab": {
          "base_uri": "https://localhost:8080/"
        },
        "id": "EVYB09FE7a6U",
        "outputId": "9f71263f-f190-4cf5-8481-ea6b29706dd3"
      },
      "execution_count": null,
      "outputs": [
        {
          "output_type": "stream",
          "name": "stdout",
          "text": [
            "f o o\n"
          ]
        }
      ]
    },
    {
      "cell_type": "code",
      "source": [
        "for key,value in dict_.items():\n",
        "   print(' '.join(key*value), end=\" \")"
      ],
      "metadata": {
        "id": "B_HOu8t37kAj",
        "colab": {
          "base_uri": "https://localhost:8080/"
        },
        "outputId": "e499abf4-a92e-4e14-a106-39392f3f52d6"
      },
      "execution_count": null,
      "outputs": [
        {
          "output_type": "stream",
          "name": "stdout",
          "text": [
            "f o o s s s s s s s s s s "
          ]
        }
      ]
    },
    {
      "cell_type": "code",
      "source": [
        "print(any([True,True,True,True,True]))"
      ],
      "metadata": {
        "id": "QrVctoNM7pqC",
        "colab": {
          "base_uri": "https://localhost:8080/"
        },
        "outputId": "d1f94fb4-02a3-456a-ab25-13851aa07bca"
      },
      "execution_count": 3,
      "outputs": [
        {
          "output_type": "stream",
          "name": "stdout",
          "text": [
            "True\n"
          ]
        }
      ]
    },
    {
      "cell_type": "code",
      "source": [
        "print(any([True,False,True,True,True]))"
      ],
      "metadata": {
        "colab": {
          "base_uri": "https://localhost:8080/"
        },
        "id": "N3CrkMQKiv1u",
        "outputId": "555a7fb4-4949-4f28-faae-3db982791ab2"
      },
      "execution_count": 5,
      "outputs": [
        {
          "output_type": "stream",
          "name": "stdout",
          "text": [
            "True\n"
          ]
        }
      ]
    },
    {
      "cell_type": "code",
      "source": [
        "print(any([False,False,False,False,True]))"
      ],
      "metadata": {
        "colab": {
          "base_uri": "https://localhost:8080/"
        },
        "id": "HxmmxL1Ci7iK",
        "outputId": "2b40eb00-0840-4c6a-a122-23540fcda7c0"
      },
      "execution_count": 6,
      "outputs": [
        {
          "output_type": "stream",
          "name": "stdout",
          "text": [
            "True\n"
          ]
        }
      ]
    },
    {
      "cell_type": "code",
      "source": [
        "print(any([True,False,False,False,False]))"
      ],
      "metadata": {
        "colab": {
          "base_uri": "https://localhost:8080/"
        },
        "id": "FiTLstmxjI8c",
        "outputId": "07ec8cf7-378d-4cda-fbd4-407f244957c1"
      },
      "execution_count": 8,
      "outputs": [
        {
          "output_type": "stream",
          "name": "stdout",
          "text": [
            "True\n"
          ]
        }
      ]
    },
    {
      "cell_type": "code",
      "source": [
        "print (any([False, False, False, False,False]))"
      ],
      "metadata": {
        "colab": {
          "base_uri": "https://localhost:8080/"
        },
        "id": "8gAvNl9ZjOQA",
        "outputId": "db0274cf-370d-4945-b0c8-da9953d4f0ef"
      },
      "execution_count": 10,
      "outputs": [
        {
          "output_type": "stream",
          "name": "stdout",
          "text": [
            "False\n"
          ]
        }
      ]
    },
    {
      "cell_type": "code",
      "source": [
        "# This code explains how can we\n",
        "# use 'any' function on list\n",
        "list1 = []\n",
        "list2 = []\n",
        " \n",
        "# Index ranges from 1 to 10 to multiply\n",
        "for i in range(1,11):\n",
        "    list1.append(4*i)\n",
        " \n",
        "# Index to access the list2 is from 0 to 9\n",
        "for i in range(0,10):\n",
        "    list2.append(list1[i]%5==0)\n",
        " \n",
        "print('See whether at least one number is divisible by 5 in list 1=>')\n",
        "print(any(list2))\n",
        "print(list2)"
      ],
      "metadata": {
        "colab": {
          "base_uri": "https://localhost:8080/"
        },
        "id": "U2z07u_AjTvA",
        "outputId": "ddd2482b-0c36-4213-fadf-27c8ab6d18c5"
      },
      "execution_count": 2,
      "outputs": [
        {
          "output_type": "stream",
          "name": "stdout",
          "text": [
            "See whether at least one number is divisible by 5 in list 1=>\n",
            "True\n",
            "[False, False, False, False, True, False, False, False, False, True]\n"
          ]
        }
      ]
    },
    {
      "cell_type": "code",
      "source": [],
      "metadata": {
        "id": "hFWxQF2L0I3H"
      },
      "execution_count": null,
      "outputs": []
    }
  ]
}