{
  "nbformat": 4,
  "nbformat_minor": 0,
  "metadata": {
    "colab": {
      "provenance": [],
      "authorship_tag": "ABX9TyOqB7pkZIVRqDpUamxB+XTW",
      "include_colab_link": true
    },
    "kernelspec": {
      "name": "python3",
      "display_name": "Python 3"
    },
    "language_info": {
      "name": "python"
    }
  },
  "cells": [
    {
      "cell_type": "markdown",
      "metadata": {
        "id": "view-in-github",
        "colab_type": "text"
      },
      "source": [
        "<a href=\"https://colab.research.google.com/github/Shambhurajdesai/Practice/blob/main/Slicing.ipynb\" target=\"_parent\"><img src=\"https://colab.research.google.com/assets/colab-badge.svg\" alt=\"Open In Colab\"/></a>"
      ]
    },
    {
      "cell_type": "code",
      "execution_count": 2,
      "metadata": {
        "colab": {
          "base_uri": "https://localhost:8080/",
          "height": 36
        },
        "id": "Z9TMMyCTxALD",
        "outputId": "b78a2d4a-a1ef-4560-cb9b-df89f641b1b4"
      },
      "outputs": [
        {
          "output_type": "execute_result",
          "data": {
            "text/plain": [
              "'sham'"
            ],
            "application/vnd.google.colaboratory.intrinsic+json": {
              "type": "string"
            }
          },
          "metadata": {},
          "execution_count": 2
        }
      ],
      "source": [
        "# Slice the word until first \"a\".\n",
        "word = 'shambhuraj'\n",
        "sl = word[0:4]\n",
        "sl"
      ]
    },
    {
      "cell_type": "code",
      "source": [
        "word[:4]"
      ],
      "metadata": {
        "colab": {
          "base_uri": "https://localhost:8080/",
          "height": 36
        },
        "id": "wZAKvSBRxP5-",
        "outputId": "25cbebc9-7989-4735-bedf-7aacbebe95eb"
      },
      "execution_count": 3,
      "outputs": [
        {
          "output_type": "execute_result",
          "data": {
            "text/plain": [
              "'sham'"
            ],
            "application/vnd.google.colaboratory.intrinsic+json": {
              "type": "string"
            }
          },
          "metadata": {},
          "execution_count": 3
        }
      ]
    },
    {
      "cell_type": "code",
      "source": [
        "word[:4:1]"
      ],
      "metadata": {
        "colab": {
          "base_uri": "https://localhost:8080/",
          "height": 36
        },
        "id": "OwtzGZTPxfF0",
        "outputId": "72700ed9-9bf2-4906-ee52-34f54c8b9953"
      },
      "execution_count": 4,
      "outputs": [
        {
          "output_type": "execute_result",
          "data": {
            "text/plain": [
              "'sham'"
            ],
            "application/vnd.google.colaboratory.intrinsic+json": {
              "type": "string"
            }
          },
          "metadata": {},
          "execution_count": 4
        }
      ]
    },
    {
      "cell_type": "code",
      "source": [
        "# Slice the word so that you get \"bhu\"\n",
        "word[4:7]"
      ],
      "metadata": {
        "colab": {
          "base_uri": "https://localhost:8080/",
          "height": 36
        },
        "id": "k1mcpiXHxhNj",
        "outputId": "206e5a8f-f6c8-4145-884d-0186ca22b3fd"
      },
      "execution_count": 6,
      "outputs": [
        {
          "output_type": "execute_result",
          "data": {
            "text/plain": [
              "'bhu'"
            ],
            "application/vnd.google.colaboratory.intrinsic+json": {
              "type": "string"
            }
          },
          "metadata": {},
          "execution_count": 6
        }
      ]
    },
    {
      "cell_type": "code",
      "source": [
        "# Now try to get \"u\" only.\n",
        "word[6]"
      ],
      "metadata": {
        "colab": {
          "base_uri": "https://localhost:8080/",
          "height": 36
        },
        "id": "j4_niKddx1MV",
        "outputId": "e2d48d98-2019-49f9-b820-bf81b3508b90"
      },
      "execution_count": 9,
      "outputs": [
        {
          "output_type": "execute_result",
          "data": {
            "text/plain": [
              "'u'"
            ],
            "application/vnd.google.colaboratory.intrinsic+json": {
              "type": "string"
            }
          },
          "metadata": {},
          "execution_count": 9
        }
      ]
    },
    {
      "cell_type": "code",
      "source": [
        "#Can you slice the word from beginning to the end with steps of 2 (including the last character.)?\n",
        "word[::2],word[1::2]"
      ],
      "metadata": {
        "colab": {
          "base_uri": "https://localhost:8080/"
        },
        "id": "Egm1VoT3yIVl",
        "outputId": "949c81c5-9222-4f3b-97da-50b1726bdeb2"
      },
      "execution_count": 15,
      "outputs": [
        {
          "output_type": "execute_result",
          "data": {
            "text/plain": [
              "('sabua', 'hmhrj')"
            ]
          },
          "metadata": {},
          "execution_count": 15
        }
      ]
    },
    {
      "cell_type": "code",
      "source": [
        "#Now slice the word with steps of 2, excluding first and last characters.\n",
        "word[1:-1:2]"
      ],
      "metadata": {
        "colab": {
          "base_uri": "https://localhost:8080/",
          "height": 36
        },
        "id": "TakIOO-MyfyT",
        "outputId": "9a2a8272-31dd-4c98-ba9f-b9934db75c4f"
      },
      "execution_count": 17,
      "outputs": [
        {
          "output_type": "execute_result",
          "data": {
            "text/plain": [
              "'hmhr'"
            ],
            "application/vnd.google.colaboratory.intrinsic+json": {
              "type": "string"
            }
          },
          "metadata": {},
          "execution_count": 17
        }
      ]
    },
    {
      "cell_type": "code",
      "source": [
        "#Can you slice the list so that it's reversed without using the .reverse() method?\n",
        "lst=[0,1,2,3,4]\n",
        "lst[::-1]"
      ],
      "metadata": {
        "colab": {
          "base_uri": "https://localhost:8080/"
        },
        "id": "CZSBtnnvy_UD",
        "outputId": "4d5d5a7f-8aec-4d80-9322-00b68b57aa0f"
      },
      "execution_count": 20,
      "outputs": [
        {
          "output_type": "execute_result",
          "data": {
            "text/plain": [
              "[4, 3, 2, 1, 0]"
            ]
          },
          "metadata": {},
          "execution_count": 20
        }
      ]
    },
    {
      "cell_type": "code",
      "source": [
        "# Slice the list so that only last 2 elements are included.\n",
        "lst[3:]"
      ],
      "metadata": {
        "colab": {
          "base_uri": "https://localhost:8080/"
        },
        "id": "0GPJS3xWzeb2",
        "outputId": "a86c5559-ac83-4bd9-eee5-051af0cba16b"
      },
      "execution_count": 26,
      "outputs": [
        {
          "output_type": "execute_result",
          "data": {
            "text/plain": [
              "[3, 4]"
            ]
          },
          "metadata": {},
          "execution_count": 26
        }
      ]
    },
    {
      "cell_type": "code",
      "source": [
        "lst[-2:]"
      ],
      "metadata": {
        "colab": {
          "base_uri": "https://localhost:8080/"
        },
        "id": "TU93didxzfsM",
        "outputId": "7770ab9f-4d74-467d-d443-d61a064d427d"
      },
      "execution_count": 22,
      "outputs": [
        {
          "output_type": "execute_result",
          "data": {
            "text/plain": [
              "[3, 4]"
            ]
          },
          "metadata": {},
          "execution_count": 22
        }
      ]
    },
    {
      "cell_type": "code",
      "source": [
        "#Slice the second and third elements (50 and 20) in the list.\n",
        "lst=[40,50,20,30,90]\n",
        "lst[1:3]"
      ],
      "metadata": {
        "colab": {
          "base_uri": "https://localhost:8080/"
        },
        "id": "i5b-PxZFz7Ag",
        "outputId": "545a36f5-2a34-404c-e19c-dc798d1271c6"
      },
      "execution_count": 27,
      "outputs": [
        {
          "output_type": "execute_result",
          "data": {
            "text/plain": [
              "[50, 20]"
            ]
          },
          "metadata": {},
          "execution_count": 27
        }
      ]
    },
    {
      "cell_type": "code",
      "source": [],
      "metadata": {
        "id": "J1xYte580Uyf"
      },
      "execution_count": null,
      "outputs": []
    },
    {
      "cell_type": "code",
      "source": [],
      "metadata": {
        "id": "6HqXY3Ge3yZO"
      },
      "execution_count": null,
      "outputs": []
    },
    {
      "cell_type": "code",
      "source": [],
      "metadata": {
        "id": "9ldfaV_83yfP"
      },
      "execution_count": null,
      "outputs": []
    },
    {
      "cell_type": "code",
      "source": [
        "str_ = input()\n",
        "str1 = ''\n",
        "l = str_.split()\n",
        "for i in l:\n",
        "  str1 = str1 + i.title() + \" \" #i[1:] + \" \"\n",
        "\n",
        "print(str1)"
      ],
      "metadata": {
        "colab": {
          "base_uri": "https://localhost:8080/"
        },
        "id": "XVTaIi5L3ylw",
        "outputId": "feefd6c5-a32d-4791-ad09-d111a57b40dc"
      },
      "execution_count": 36,
      "outputs": [
        {
          "output_type": "stream",
          "name": "stdout",
          "text": [
            "shambhuraj madhav desai\n",
            "Shambhuraj Madhav Desai \n"
          ]
        }
      ]
    },
    {
      "cell_type": "code",
      "source": [
        "str_ = input()\n",
        "n = int(input())\n",
        "L = len(str_)\n",
        "if n > L:\n",
        "  print('Enter the less number of characters than L')\n",
        "else:\n",
        "  print(str_[:n])"
      ],
      "metadata": {
        "colab": {
          "base_uri": "https://localhost:8080/"
        },
        "id": "l1ZS9SLo4IXe",
        "outputId": "62bfd9bc-8f3a-4cc0-e9eb-559b69e2e33b"
      },
      "execution_count": 37,
      "outputs": [
        {
          "output_type": "stream",
          "name": "stdout",
          "text": [
            "shambhuraj\n",
            "4\n",
            "sham\n"
          ]
        }
      ]
    },
    {
      "cell_type": "code",
      "source": [
        "#write the program to reverse the string using slicing\n",
        "str_ = 'shambhuraj madhav desai'\n",
        "\n",
        "str_[::-1]"
      ],
      "metadata": {
        "colab": {
          "base_uri": "https://localhost:8080/",
          "height": 36
        },
        "id": "uk27GgpM5xbS",
        "outputId": "e8c794e9-0e2b-4d73-85f7-22ff21c4c6c9"
      },
      "execution_count": 38,
      "outputs": [
        {
          "output_type": "execute_result",
          "data": {
            "text/plain": [
              "'iased vahdam jaruhbmahs'"
            ],
            "application/vnd.google.colaboratory.intrinsic+json": {
              "type": "string"
            }
          },
          "metadata": {},
          "execution_count": 38
        }
      ]
    },
    {
      "cell_type": "code",
      "source": [
        "str_ = input()\n",
        "n = int(input())\n",
        "R = len(str_)\n",
        "print(str_[R-n::])"
      ],
      "metadata": {
        "colab": {
          "base_uri": "https://localhost:8080/"
        },
        "id": "5x7y1WII6JIU",
        "outputId": "fad952eb-6082-456f-f7f5-1653922c6b34"
      },
      "execution_count": 40,
      "outputs": [
        {
          "output_type": "stream",
          "name": "stdout",
          "text": [
            "shambhuraj\n",
            "3\n",
            "raj\n"
          ]
        }
      ]
    },
    {
      "cell_type": "code",
      "source": [
        "str_ = input()\n",
        "L = str_.split()\n",
        "for i in L:\n",
        "  print(i[0],end=\" \")"
      ],
      "metadata": {
        "colab": {
          "base_uri": "https://localhost:8080/"
        },
        "id": "lYyscz5N6jI2",
        "outputId": "0c2f656e-b54f-4dbf-b14c-0d568bc87b8d"
      },
      "execution_count": 41,
      "outputs": [
        {
          "output_type": "stream",
          "name": "stdout",
          "text": [
            "shambhuraj madhav desai\n",
            "s m d "
          ]
        }
      ]
    },
    {
      "cell_type": "code",
      "source": [],
      "metadata": {
        "id": "y7h9jvH87Cz7"
      },
      "execution_count": null,
      "outputs": []
    }
  ]
}