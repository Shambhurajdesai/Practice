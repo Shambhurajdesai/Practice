{
  "nbformat": 4,
  "nbformat_minor": 0,
  "metadata": {
    "colab": {
      "provenance": [],
      "authorship_tag": "ABX9TyPM+0kJQ2wx4+mkqEt0VJEO",
      "include_colab_link": true
    },
    "kernelspec": {
      "name": "python3",
      "display_name": "Python 3"
    },
    "language_info": {
      "name": "python"
    }
  },
  "cells": [
    {
      "cell_type": "markdown",
      "metadata": {
        "id": "view-in-github",
        "colab_type": "text"
      },
      "source": [
        "<a href=\"https://colab.research.google.com/github/Shambhurajdesai/Practice/blob/main/List_comprehension_practice.ipynb\" target=\"_parent\"><img src=\"https://colab.research.google.com/assets/colab-badge.svg\" alt=\"Open In Colab\"/></a>"
      ]
    },
    {
      "cell_type": "markdown",
      "source": [
        "1"
      ],
      "metadata": {
        "id": "xNAYZt13-6HO"
      }
    },
    {
      "cell_type": "code",
      "execution_count": null,
      "metadata": {
        "id": "7bS-Sl39ji5A"
      },
      "outputs": [],
      "source": [
        "#1 Consider the following list and dictionary in your code:\n",
        "a_list = list(range(1, 11))\n",
        "a_dictionary = {1 : 'one',2 : 'two',3 : 'three',4 : 'four',5 : 'five',6 : 'six',7 : 'seven',8 : 'eight',9 : 'nine',10 : 'ten'}"
      ]
    },
    {
      "cell_type": "code",
      "source": [
        "# a) Use a list comprehension that iterates over a_list, prints a list composed of each value in a_list multiplied by 10.\n",
        "multiply = [x*10 for x in a_dictionary.keys()]"
      ],
      "metadata": {
        "id": "WO5dR0uQj2EU"
      },
      "execution_count": null,
      "outputs": []
    },
    {
      "cell_type": "code",
      "source": [
        "multiply"
      ],
      "metadata": {
        "colab": {
          "base_uri": "https://localhost:8080/"
        },
        "id": "eOg90yRrkPek",
        "outputId": "4960fdf1-3706-4b78-a3fc-9760dc9b3f7e"
      },
      "execution_count": null,
      "outputs": [
        {
          "output_type": "execute_result",
          "data": {
            "text/plain": [
              "[10, 20, 30, 40, 50, 60, 70, 80, 90, 100]"
            ]
          },
          "metadata": {},
          "execution_count": 4
        }
      ]
    },
    {
      "cell_type": "code",
      "source": [
        "#Use a list comprehension that iterates over a_list, prints a list composed of odd numbers from 1 to 9.\n",
        "odd = [x for x in a_dictionary.keys() if x%2 !=0]\n",
        "odd"
      ],
      "metadata": {
        "colab": {
          "base_uri": "https://localhost:8080/"
        },
        "id": "53EOzAIxkf6n",
        "outputId": "3b2a14c6-94b7-4a58-b359-7cfc43c7c389"
      },
      "execution_count": null,
      "outputs": [
        {
          "output_type": "execute_result",
          "data": {
            "text/plain": [
              "[1, 3, 5, 7, 9]"
            ]
          },
          "metadata": {},
          "execution_count": 6
        }
      ]
    },
    {
      "cell_type": "code",
      "source": [
        "#(c) Using a list comprehension which iterates over a_list and whose output expression accesses a value \n",
        "# from a dictionary, print a list composed of the text form of each even number from 2 to 10,\n",
        "text = [y for x,y in a_dictionary.items() if x%2==0 ]\n",
        "text"
      ],
      "metadata": {
        "colab": {
          "base_uri": "https://localhost:8080/"
        },
        "id": "qy0IKYd8k3QX",
        "outputId": "4e090960-15f2-4cd8-cc24-a235ece0b62f"
      },
      "execution_count": null,
      "outputs": [
        {
          "output_type": "execute_result",
          "data": {
            "text/plain": [
              "['two', 'four', 'six', 'eight', 'ten']"
            ]
          },
          "metadata": {},
          "execution_count": 8
        }
      ]
    },
    {
      "cell_type": "code",
      "source": [
        "# (d) Write a function named odd_or_zero which takes one parameter, a number, and returns that number \n",
        "# if it is odd or returns 0 if the number is even. Then using a list comprehension which iterates over \n",
        "# a_list and calls your odd or zero function for each value, print a list like the following:\n",
        "\n",
        "def odd_or_zero(number):\n",
        "  if number%2!=0:\n",
        "    print(number)\n",
        "  else:\n",
        "    print(0)\n",
        "  \n",
        "num = [1,2,3,4,5,6,7,8,9]\n",
        "list_ = [odd_or_zero(i) for i in num ]\n"
      ],
      "metadata": {
        "colab": {
          "base_uri": "https://localhost:8080/"
        },
        "id": "GitnhuQ4lm32",
        "outputId": "060314dc-42e6-429d-e58a-56cce917bc11"
      },
      "execution_count": null,
      "outputs": [
        {
          "output_type": "stream",
          "name": "stdout",
          "text": [
            "1\n",
            "0\n",
            "3\n",
            "0\n",
            "5\n",
            "0\n",
            "7\n",
            "0\n",
            "9\n"
          ]
        }
      ]
    },
    {
      "cell_type": "code",
      "source": [
        "#(e) Prompt the user for a number, which will be returned from input as a string data type.\n",
        "#  Strings can be iterated over like lists, such that the loop repeats for each character in the string. \n",
        "#  Using a list comprehension which iterates over the user-entered string and whose output expression accesses\n",
        "#  values from a_dictionary, print a list of the text form of each digit from the user-entered string, \n",
        "\n",
        "number = input('input a number: ')\n",
        "[a_dictionary[int(number)] for number in number]\n"
      ],
      "metadata": {
        "colab": {
          "base_uri": "https://localhost:8080/"
        },
        "id": "yBqsdEPfmu-5",
        "outputId": "b791483e-747b-46f4-c32a-ee9b24976ed2"
      },
      "execution_count": null,
      "outputs": [
        {
          "name": "stdout",
          "output_type": "stream",
          "text": [
            "input a number: 195\n"
          ]
        },
        {
          "output_type": "execute_result",
          "data": {
            "text/plain": [
              "['one', 'nine', 'five']"
            ]
          },
          "metadata": {},
          "execution_count": 14
        }
      ]
    },
    {
      "cell_type": "code",
      "source": [
        "\n",
        "[y for x,y in a_dictionary.items()]"
      ],
      "metadata": {
        "colab": {
          "base_uri": "https://localhost:8080/"
        },
        "id": "r70-29FmoU5t",
        "outputId": "511cb013-6a42-49e1-c72c-3207fc5984b5"
      },
      "execution_count": null,
      "outputs": [
        {
          "output_type": "execute_result",
          "data": {
            "text/plain": [
              "['one', 'two', 'three', 'four', 'five', 'six', 'seven', 'eight', 'nine', 'ten']"
            ]
          },
          "metadata": {},
          "execution_count": 21
        }
      ]
    },
    {
      "cell_type": "code",
      "source": [
        "# (f) Using the same user-entered number and list comprehension as above, also print the text form of the \n",
        "# digits in a single string (using the string join function) with a dash between each text form of the digit\n",
        "number = input()\n",
        "l = [a_dictionary[int(number)] for number in number]\n",
        "\"-\".join(l)"
      ],
      "metadata": {
        "colab": {
          "base_uri": "https://localhost:8080/",
          "height": 53
        },
        "id": "mxZ4WpGyo8ll",
        "outputId": "a2e58762-64aa-4e3e-b4bc-effda21ba60c"
      },
      "execution_count": null,
      "outputs": [
        {
          "name": "stdout",
          "output_type": "stream",
          "text": [
            "195\n"
          ]
        },
        {
          "output_type": "execute_result",
          "data": {
            "text/plain": [
              "'one-nine-five'"
            ],
            "application/vnd.google.colaboratory.intrinsic+json": {
              "type": "string"
            }
          },
          "metadata": {},
          "execution_count": 24
        }
      ]
    },
    {
      "cell_type": "code",
      "source": [],
      "metadata": {
        "id": "5zgrWUFf7KRs"
      },
      "execution_count": null,
      "outputs": []
    },
    {
      "cell_type": "markdown",
      "source": [
        "2"
      ],
      "metadata": {
        "id": "EbtxeygU-4fy"
      }
    },
    {
      "cell_type": "code",
      "source": [
        "# Using list comprehension, square each element of a list.\n",
        "list_ = [1,2,3,4,5,6,7,8,9]\n",
        "sq = [x**2 for x in list_]\n",
        "sq"
      ],
      "metadata": {
        "colab": {
          "base_uri": "https://localhost:8080/"
        },
        "id": "VnNApm2O_BUQ",
        "outputId": "474094ce-bd94-41a3-a4b3-1a2b17652fc9"
      },
      "execution_count": null,
      "outputs": [
        {
          "output_type": "execute_result",
          "data": {
            "text/plain": [
              "[1, 4, 9, 16, 25, 36, 49, 64, 81]"
            ]
          },
          "metadata": {},
          "execution_count": 26
        }
      ]
    },
    {
      "cell_type": "code",
      "source": [
        "# Write a list comprehension that builds a list containing only the names with at least 8 characters.\n",
        "quote = ['Hey', 'my' ,'name' ,'is' ,'Shambhuraj', ' Madhav ' ,'Desai ' ,'I', 'am' ,'from' ,'Maharashtra']\n",
        "[x for x in quote if len(x)>=8]\n",
        "\n",
        "\n"
      ],
      "metadata": {
        "colab": {
          "base_uri": "https://localhost:8080/"
        },
        "id": "8GmuY1N5_Nsr",
        "outputId": "69c1be4c-8ceb-4be6-f8d2-00cffb37dd79"
      },
      "execution_count": 6,
      "outputs": [
        {
          "output_type": "execute_result",
          "data": {
            "text/plain": [
              "['Shambhuraj', ' Madhav ', 'Maharashtra']"
            ]
          },
          "metadata": {},
          "execution_count": 6
        }
      ]
    },
    {
      "cell_type": "code",
      "source": [
        "# 4 Write a list comprehension that builds a list containing only even numbers over 100.\n",
        "even = [x for x in range(1,150,5) if x%2==0]\n",
        "even\n"
      ],
      "metadata": {
        "id": "0Wa24-zUAHrC",
        "colab": {
          "base_uri": "https://localhost:8080/"
        },
        "outputId": "55c5c84f-80dd-4d95-b90d-a068ffadef01"
      },
      "execution_count": 10,
      "outputs": [
        {
          "output_type": "execute_result",
          "data": {
            "text/plain": [
              "[6, 16, 26, 36, 46, 56, 66, 76, 86, 96, 106, 116, 126, 136, 146]"
            ]
          },
          "metadata": {},
          "execution_count": 10
        }
      ]
    },
    {
      "cell_type": "code",
      "source": [
        "# 5 Add % in front and end of every single word in a given string str: \"Fall is Awesome in Alabama\" only using\n",
        "#  list comprehensions.\n",
        "string = 'Fall is Awesome in Alabama'\n",
        "list_ = [string]\n",
        "l = [x for x in list_]\n",
        "'%'.join(l)"
      ],
      "metadata": {
        "colab": {
          "base_uri": "https://localhost:8080/",
          "height": 36
        },
        "id": "F0F_5Xf_rLYp",
        "outputId": "dc0b0ad6-ce93-4358-9a69-f48f95e96c4e"
      },
      "execution_count": 20,
      "outputs": [
        {
          "output_type": "execute_result",
          "data": {
            "text/plain": [
              "'Fall is Awesome in Alabama'"
            ],
            "application/vnd.google.colaboratory.intrinsic+json": {
              "type": "string"
            }
          },
          "metadata": {},
          "execution_count": 20
        }
      ]
    },
    {
      "cell_type": "code",
      "source": [
        "a = string.split()\n",
        "b = [x for x in a]\n",
        "'% , %'.join(b)"
      ],
      "metadata": {
        "colab": {
          "base_uri": "https://localhost:8080/",
          "height": 36
        },
        "id": "pu5r1auYthe2",
        "outputId": "a21dade5-9bba-4d33-b2b1-35a56088d0cc"
      },
      "execution_count": 24,
      "outputs": [
        {
          "output_type": "execute_result",
          "data": {
            "text/plain": [
              "'Fall% , %is% , %Awesome% , %in% , %Alabama'"
            ],
            "application/vnd.google.colaboratory.intrinsic+json": {
              "type": "string"
            }
          },
          "metadata": {},
          "execution_count": 24
        }
      ]
    },
    {
      "cell_type": "code",
      "source": [
        "list_ = ['%'+x+'%' for x in string.split()]\n",
        "list_"
      ],
      "metadata": {
        "colab": {
          "base_uri": "https://localhost:8080/"
        },
        "id": "3eBlD-sCt_Zi",
        "outputId": "645f8ab3-3065-4beb-f9cb-70a7d3eb8e75"
      },
      "execution_count": 25,
      "outputs": [
        {
          "output_type": "execute_result",
          "data": {
            "text/plain": [
              "['%Fall%', '%is%', '%Awesome%', '%in%', '%Alabama%']"
            ]
          },
          "metadata": {},
          "execution_count": 25
        }
      ]
    },
    {
      "cell_type": "code",
      "source": [],
      "metadata": {
        "id": "ikyFGtilvKVP"
      },
      "execution_count": null,
      "outputs": []
    }
  ]
}