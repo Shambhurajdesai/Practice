{
  "nbformat": 4,
  "nbformat_minor": 0,
  "metadata": {
    "colab": {
      "provenance": [],
      "authorship_tag": "ABX9TyMWMweAt2w3WD84+VRbXKZ7",
      "include_colab_link": true
    },
    "kernelspec": {
      "name": "python3",
      "display_name": "Python 3"
    },
    "language_info": {
      "name": "python"
    }
  },
  "cells": [
    {
      "cell_type": "markdown",
      "metadata": {
        "id": "view-in-github",
        "colab_type": "text"
      },
      "source": [
        "<a href=\"https://colab.research.google.com/github/Shambhurajdesai/Practice/blob/main/practice_of_python.ipynb\" target=\"_parent\"><img src=\"https://colab.research.google.com/assets/colab-badge.svg\" alt=\"Open In Colab\"/></a>"
      ]
    },
    {
      "cell_type": "code",
      "execution_count": 1,
      "metadata": {
        "id": "bobZ2CDz7P6w"
      },
      "outputs": [],
      "source": [
        "dict_ = {\"f\": 1, \"o\": 2}\n",
        "\n"
      ]
    },
    {
      "cell_type": "code",
      "source": [
        "# list_ = ''\n",
        "# for key,value in dict_.items():\n",
        "  # for i in range(value+1):\n",
        "print(' '.join(key for key,value in dict_.items() for _ in range(value)))\n",
        "\n",
        "\n",
        "# print(list_)\n",
        "  "
      ],
      "metadata": {
        "colab": {
          "base_uri": "https://localhost:8080/"
        },
        "id": "EVYB09FE7a6U",
        "outputId": "9f71263f-f190-4cf5-8481-ea6b29706dd3"
      },
      "execution_count": 22,
      "outputs": [
        {
          "output_type": "stream",
          "name": "stdout",
          "text": [
            "f o o\n"
          ]
        }
      ]
    },
    {
      "cell_type": "code",
      "source": [],
      "metadata": {
        "id": "B_HOu8t37kAj"
      },
      "execution_count": null,
      "outputs": []
    }
  ]
}