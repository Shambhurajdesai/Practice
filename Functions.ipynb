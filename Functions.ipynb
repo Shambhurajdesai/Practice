{
  "nbformat": 4,
  "nbformat_minor": 0,
  "metadata": {
    "colab": {
      "provenance": [],
      "authorship_tag": "ABX9TyPAcgyWw/TqW4VEdNlMJccd",
      "include_colab_link": true
    },
    "kernelspec": {
      "name": "python3",
      "display_name": "Python 3"
    },
    "language_info": {
      "name": "python"
    }
  },
  "cells": [
    {
      "cell_type": "markdown",
      "metadata": {
        "id": "view-in-github",
        "colab_type": "text"
      },
      "source": [
        "<a href=\"https://colab.research.google.com/github/Shambhurajdesai/Practice/blob/main/Functions.ipynb\" target=\"_parent\"><img src=\"https://colab.research.google.com/assets/colab-badge.svg\" alt=\"Open In Colab\"/></a>"
      ]
    },
    {
      "cell_type": "code",
      "execution_count": null,
      "metadata": {
        "id": "TkPOLsbKVJSo"
      },
      "outputs": [],
      "source": [
        "#Write a program to create function calculation() such that it can accept two variables and calculate addition \n",
        "#and subtraction. Also, it must return both addition and subtraction in a single return call.\n",
        "\n",
        "def calculation(a,b):\n",
        "  add = a+b\n",
        "  sub = a-b\n",
        "  return add,sub"
      ]
    },
    {
      "cell_type": "code",
      "source": [
        "calculation(5,3)"
      ],
      "metadata": {
        "colab": {
          "base_uri": "https://localhost:8080/"
        },
        "id": "1OLgFCovVqu0",
        "outputId": "8f770a95-56c9-4454-9a95-201351b280de"
      },
      "execution_count": null,
      "outputs": [
        {
          "output_type": "execute_result",
          "data": {
            "text/plain": [
              "(8, 2)"
            ]
          },
          "metadata": {},
          "execution_count": 3
        }
      ]
    },
    {
      "cell_type": "code",
      "source": [
        "def calculation(a,b):\n",
        "  return a+b,a-b"
      ],
      "metadata": {
        "id": "UGvkN4JNVzob"
      },
      "execution_count": null,
      "outputs": []
    },
    {
      "cell_type": "code",
      "source": [
        "calculation(9,6)"
      ],
      "metadata": {
        "colab": {
          "base_uri": "https://localhost:8080/"
        },
        "id": "V4NTtu-hV_8B",
        "outputId": "19d5fc68-67ae-4fe7-90f4-01c7d8169d4b"
      },
      "execution_count": null,
      "outputs": [
        {
          "output_type": "execute_result",
          "data": {
            "text/plain": [
              "(15, 3)"
            ]
          },
          "metadata": {},
          "execution_count": 5
        }
      ]
    },
    {
      "cell_type": "code",
      "source": [
        "#Create a function with a default argument\n",
        "# Write a program to create a function show_employee() using the following conditions.\n",
        "\n",
        "# It should accept the employee’s name and salary and display both.\n",
        "# If the salary is missing in the function call then assign default value 9000 to salary\n",
        "\n",
        "def show_employee(name,salary=9000):\n",
        "  \n",
        "  print('Name:',name, 'Salary:',salary)"
      ],
      "metadata": {
        "id": "J2R_k0aaWCiZ"
      },
      "execution_count": null,
      "outputs": []
    },
    {
      "cell_type": "code",
      "source": [
        "show_employee('Shambhuraj',80000)"
      ],
      "metadata": {
        "colab": {
          "base_uri": "https://localhost:8080/"
        },
        "id": "1Unt12sKW0Zq",
        "outputId": "1b76b82b-f0de-46be-e867-cb247ab0f79f"
      },
      "execution_count": null,
      "outputs": [
        {
          "output_type": "stream",
          "name": "stdout",
          "text": [
            "Name: Shambhuraj Salary: 80000\n"
          ]
        }
      ]
    },
    {
      "cell_type": "code",
      "source": [
        "show_employee('virat')"
      ],
      "metadata": {
        "colab": {
          "base_uri": "https://localhost:8080/"
        },
        "id": "3nPqKy_ZW5k8",
        "outputId": "1f98863b-b8f0-4e39-b331-2ef1f48ad3ba"
      },
      "execution_count": null,
      "outputs": [
        {
          "output_type": "stream",
          "name": "stdout",
          "text": [
            "Name: virat Salary: 9000\n"
          ]
        }
      ]
    },
    {
      "cell_type": "code",
      "source": [
        "#Create an inner function to calculate the addition in the following way\n",
        "\n",
        "# Create an outer function that will accept two parameters, a and b\n",
        "# Create an inner function inside an outer function that will calculate the addition of a and b\n",
        "# At last, an outer function will add 5 into addition and return it\n",
        "\n",
        "def outer_fuc(a,b):\n",
        "  def addition(a,b):\n",
        "    return a+b\n",
        "  add_ = addition(a,b)\n",
        "  return add_+5"
      ],
      "metadata": {
        "id": "f3TLuqFuXYcH"
      },
      "execution_count": null,
      "outputs": []
    },
    {
      "cell_type": "code",
      "source": [
        "# Create a recursive function\n",
        "# Write a program to create a recursive function to calculate the sum of numbers from 0 to 10.\n",
        "\n",
        "# A recursive function is a function that calls itself again and again.\n",
        "\n",
        "# Expected Output:\n",
        "\n",
        "# 55\n",
        "sum = 0\n",
        "for i in range(int(input())):\n",
        "  sum = sum+i\n",
        "print(sum)"
      ],
      "metadata": {
        "colab": {
          "base_uri": "https://localhost:8080/"
        },
        "id": "wV-eAt8pBazu",
        "outputId": "fd3e2aac-8d65-46c1-f5ed-46c5623ad710"
      },
      "execution_count": 7,
      "outputs": [
        {
          "output_type": "stream",
          "name": "stdout",
          "text": [
            "21\n",
            "210\n"
          ]
        }
      ]
    },
    {
      "cell_type": "code",
      "source": [
        "#Assign a different name to function and call it through the new name\n",
        "# Below is the function display_student(name, age). Assign a new name show_tudent(name, age) to it \n",
        "# and call it using the new name.\n",
        "def display_student(name,age):\n",
        "  print(name,age)\n",
        "  "
      ],
      "metadata": {
        "id": "kWEHHfYmB6x1"
      },
      "execution_count": 8,
      "outputs": []
    },
    {
      "cell_type": "code",
      "source": [
        "display_student('Shambhuraj',25)"
      ],
      "metadata": {
        "colab": {
          "base_uri": "https://localhost:8080/"
        },
        "id": "MGINOspMD72G",
        "outputId": "a880bd88-56e1-4c6f-bce5-4bd5f08bbf0a"
      },
      "execution_count": 9,
      "outputs": [
        {
          "output_type": "stream",
          "name": "stdout",
          "text": [
            "Shambhuraj 25\n"
          ]
        }
      ]
    },
    {
      "cell_type": "code",
      "source": [
        "show_student = display_student"
      ],
      "metadata": {
        "id": "J7LD_BDnEC2X"
      },
      "execution_count": 10,
      "outputs": []
    },
    {
      "cell_type": "code",
      "source": [
        "show_student('Shambhuraj',25)"
      ],
      "metadata": {
        "colab": {
          "base_uri": "https://localhost:8080/"
        },
        "id": "LBI-xXTcEUUC",
        "outputId": "022a3009-6f7f-4809-fcee-dd4fca7b3f8f"
      },
      "execution_count": 11,
      "outputs": [
        {
          "output_type": "stream",
          "name": "stdout",
          "text": [
            "Shambhuraj 25\n"
          ]
        }
      ]
    },
    {
      "cell_type": "code",
      "source": [
        "#Generate a Python list of all the even numbers between 4 to 30\n",
        "# Expected Output:\n",
        "\n",
        "# [4, 6, 8, 10, 12, 14, 16, 18, 20, 22, 24, 26, 28]\n",
        "even_ = []\n",
        "for i in range(4,30):\n",
        "  if i%2==0:\n",
        "    even_.append(i)\n",
        "print(even_)"
      ],
      "metadata": {
        "colab": {
          "base_uri": "https://localhost:8080/"
        },
        "id": "mo3VaWg2EX_v",
        "outputId": "91de30f4-7889-402f-900d-3108fa627022"
      },
      "execution_count": 13,
      "outputs": [
        {
          "output_type": "stream",
          "name": "stdout",
          "text": [
            "[4, 6, 8, 10, 12, 14, 16, 18, 20, 22, 24, 26, 28]\n"
          ]
        }
      ]
    },
    {
      "cell_type": "code",
      "source": [
        "#Find the largest item from a given list\n",
        "x = [4, 6, 8, 24, 12, 2]\n",
        "max(x)"
      ],
      "metadata": {
        "colab": {
          "base_uri": "https://localhost:8080/"
        },
        "id": "RA1FuIs1E4Vx",
        "outputId": "44d8af6b-f52c-40a5-98af-44f76c264a52"
      },
      "execution_count": 24,
      "outputs": [
        {
          "output_type": "execute_result",
          "data": {
            "text/plain": [
              "24"
            ]
          },
          "metadata": {},
          "execution_count": 24
        }
      ]
    },
    {
      "cell_type": "code",
      "source": [],
      "metadata": {
        "id": "RAZzTtsvFZba"
      },
      "execution_count": null,
      "outputs": []
    }
  ]
}