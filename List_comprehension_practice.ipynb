{
  "nbformat": 4,
  "nbformat_minor": 0,
  "metadata": {
    "colab": {
      "provenance": [],
      "authorship_tag": "ABX9TyM88MsGIpmjTfywqNd91dbH",
      "include_colab_link": true
    },
    "kernelspec": {
      "name": "python3",
      "display_name": "Python 3"
    },
    "language_info": {
      "name": "python"
    }
  },
  "cells": [
    {
      "cell_type": "markdown",
      "metadata": {
        "id": "view-in-github",
        "colab_type": "text"
      },
      "source": [
        "<a href=\"https://colab.research.google.com/github/Shambhurajdesai/Practice/blob/main/List_comprehension_practice.ipynb\" target=\"_parent\"><img src=\"https://colab.research.google.com/assets/colab-badge.svg\" alt=\"Open In Colab\"/></a>"
      ]
    },
    {
      "cell_type": "markdown",
      "source": [
        "1"
      ],
      "metadata": {
        "id": "xNAYZt13-6HO"
      }
    },
    {
      "cell_type": "code",
      "execution_count": null,
      "metadata": {
        "id": "7bS-Sl39ji5A"
      },
      "outputs": [],
      "source": [
        "#1 Consider the following list and dictionary in your code:\n",
        "a_list = list(range(1, 11))\n",
        "a_dictionary = {1 : 'one',2 : 'two',3 : 'three',4 : 'four',5 : 'five',6 : 'six',7 : 'seven',8 : 'eight',9 : 'nine',10 : 'ten'}"
      ]
    },
    {
      "cell_type": "code",
      "source": [
        "# a) Use a list comprehension that iterates over a_list, prints a list composed of each value in a_list multiplied by 10.\n",
        "multiply = [x*10 for x in a_dictionary.keys()]"
      ],
      "metadata": {
        "id": "WO5dR0uQj2EU"
      },
      "execution_count": null,
      "outputs": []
    },
    {
      "cell_type": "code",
      "source": [
        "multiply"
      ],
      "metadata": {
        "colab": {
          "base_uri": "https://localhost:8080/"
        },
        "id": "eOg90yRrkPek",
        "outputId": "4960fdf1-3706-4b78-a3fc-9760dc9b3f7e"
      },
      "execution_count": null,
      "outputs": [
        {
          "output_type": "execute_result",
          "data": {
            "text/plain": [
              "[10, 20, 30, 40, 50, 60, 70, 80, 90, 100]"
            ]
          },
          "metadata": {},
          "execution_count": 4
        }
      ]
    },
    {
      "cell_type": "code",
      "source": [
        "#Use a list comprehension that iterates over a_list, prints a list composed of odd numbers from 1 to 9.\n",
        "odd = [x for x in a_dictionary.keys() if x%2 !=0]\n",
        "odd"
      ],
      "metadata": {
        "colab": {
          "base_uri": "https://localhost:8080/"
        },
        "id": "53EOzAIxkf6n",
        "outputId": "3b2a14c6-94b7-4a58-b359-7cfc43c7c389"
      },
      "execution_count": null,
      "outputs": [
        {
          "output_type": "execute_result",
          "data": {
            "text/plain": [
              "[1, 3, 5, 7, 9]"
            ]
          },
          "metadata": {},
          "execution_count": 6
        }
      ]
    },
    {
      "cell_type": "code",
      "source": [
        "#(c) Using a list comprehension which iterates over a_list and whose output expression accesses a value \n",
        "# from a dictionary, print a list composed of the text form of each even number from 2 to 10,\n",
        "text = [y for x,y in a_dictionary.items() if x%2==0 ]\n",
        "text"
      ],
      "metadata": {
        "colab": {
          "base_uri": "https://localhost:8080/"
        },
        "id": "qy0IKYd8k3QX",
        "outputId": "4e090960-15f2-4cd8-cc24-a235ece0b62f"
      },
      "execution_count": null,
      "outputs": [
        {
          "output_type": "execute_result",
          "data": {
            "text/plain": [
              "['two', 'four', 'six', 'eight', 'ten']"
            ]
          },
          "metadata": {},
          "execution_count": 8
        }
      ]
    },
    {
      "cell_type": "code",
      "source": [
        "# (d) Write a function named odd_or_zero which takes one parameter, a number, and returns that number \n",
        "# if it is odd or returns 0 if the number is even. Then using a list comprehension which iterates over \n",
        "# a_list and calls your odd or zero function for each value, print a list like the following:\n",
        "\n",
        "def odd_or_zero(number):\n",
        "  if number%2!=0:\n",
        "    print(number)\n",
        "  else:\n",
        "    print(0)\n",
        "  \n",
        "num = [1,2,3,4,5,6,7,8,9]\n",
        "list_ = [odd_or_zero(i) for i in num ]\n"
      ],
      "metadata": {
        "colab": {
          "base_uri": "https://localhost:8080/"
        },
        "id": "GitnhuQ4lm32",
        "outputId": "060314dc-42e6-429d-e58a-56cce917bc11"
      },
      "execution_count": null,
      "outputs": [
        {
          "output_type": "stream",
          "name": "stdout",
          "text": [
            "1\n",
            "0\n",
            "3\n",
            "0\n",
            "5\n",
            "0\n",
            "7\n",
            "0\n",
            "9\n"
          ]
        }
      ]
    },
    {
      "cell_type": "code",
      "source": [
        "#(e) Prompt the user for a number, which will be returned from input as a string data type.\n",
        "#  Strings can be iterated over like lists, such that the loop repeats for each character in the string. \n",
        "#  Using a list comprehension which iterates over the user-entered string and whose output expression accesses\n",
        "#  values from a_dictionary, print a list of the text form of each digit from the user-entered string, \n",
        "\n",
        "number = input('input a number: ')\n",
        "[a_dictionary[int(number)] for number in number]\n"
      ],
      "metadata": {
        "colab": {
          "base_uri": "https://localhost:8080/"
        },
        "id": "yBqsdEPfmu-5",
        "outputId": "b791483e-747b-46f4-c32a-ee9b24976ed2"
      },
      "execution_count": null,
      "outputs": [
        {
          "name": "stdout",
          "output_type": "stream",
          "text": [
            "input a number: 195\n"
          ]
        },
        {
          "output_type": "execute_result",
          "data": {
            "text/plain": [
              "['one', 'nine', 'five']"
            ]
          },
          "metadata": {},
          "execution_count": 14
        }
      ]
    },
    {
      "cell_type": "code",
      "source": [
        "\n",
        "[y for x,y in a_dictionary.items()]"
      ],
      "metadata": {
        "colab": {
          "base_uri": "https://localhost:8080/"
        },
        "id": "r70-29FmoU5t",
        "outputId": "511cb013-6a42-49e1-c72c-3207fc5984b5"
      },
      "execution_count": null,
      "outputs": [
        {
          "output_type": "execute_result",
          "data": {
            "text/plain": [
              "['one', 'two', 'three', 'four', 'five', 'six', 'seven', 'eight', 'nine', 'ten']"
            ]
          },
          "metadata": {},
          "execution_count": 21
        }
      ]
    },
    {
      "cell_type": "code",
      "source": [
        "# (f) Using the same user-entered number and list comprehension as above, also print the text form of the \n",
        "# digits in a single string (using the string join function) with a dash between each text form of the digit\n",
        "number = input()\n",
        "l = [a_dictionary[int(number)] for number in number]\n",
        "\"-\".join(l)"
      ],
      "metadata": {
        "colab": {
          "base_uri": "https://localhost:8080/",
          "height": 53
        },
        "id": "mxZ4WpGyo8ll",
        "outputId": "a2e58762-64aa-4e3e-b4bc-effda21ba60c"
      },
      "execution_count": null,
      "outputs": [
        {
          "name": "stdout",
          "output_type": "stream",
          "text": [
            "195\n"
          ]
        },
        {
          "output_type": "execute_result",
          "data": {
            "text/plain": [
              "'one-nine-five'"
            ],
            "application/vnd.google.colaboratory.intrinsic+json": {
              "type": "string"
            }
          },
          "metadata": {},
          "execution_count": 24
        }
      ]
    },
    {
      "cell_type": "code",
      "source": [],
      "metadata": {
        "id": "5zgrWUFf7KRs"
      },
      "execution_count": null,
      "outputs": []
    },
    {
      "cell_type": "markdown",
      "source": [
        "2"
      ],
      "metadata": {
        "id": "EbtxeygU-4fy"
      }
    },
    {
      "cell_type": "code",
      "source": [
        "# Using list comprehension, square each element of a list.\n",
        "list_ = [1,2,3,4,5,6,7,8,9]\n",
        "sq = [x**2 for x in list_]\n",
        "sq"
      ],
      "metadata": {
        "colab": {
          "base_uri": "https://localhost:8080/"
        },
        "id": "VnNApm2O_BUQ",
        "outputId": "474094ce-bd94-41a3-a4b3-1a2b17652fc9"
      },
      "execution_count": null,
      "outputs": [
        {
          "output_type": "execute_result",
          "data": {
            "text/plain": [
              "[1, 4, 9, 16, 25, 36, 49, 64, 81]"
            ]
          },
          "metadata": {},
          "execution_count": 26
        }
      ]
    },
    {
      "cell_type": "code",
      "source": [
        "# Write a list comprehension that builds a list containing only the names with at least 8 characters.\n",
        "quote = ['Hey', 'my' ,'name' ,'is' ,'Shambhuraj', ' Madhav ' ,'Desai ' ,'I', 'am' ,'from' ,'Maharashtra']\n",
        "[x for x in quote if len(x)>=8]\n",
        "\n",
        "\n"
      ],
      "metadata": {
        "colab": {
          "base_uri": "https://localhost:8080/"
        },
        "id": "8GmuY1N5_Nsr",
        "outputId": "69c1be4c-8ceb-4be6-f8d2-00cffb37dd79"
      },
      "execution_count": 6,
      "outputs": [
        {
          "output_type": "execute_result",
          "data": {
            "text/plain": [
              "['Shambhuraj', ' Madhav ', 'Maharashtra']"
            ]
          },
          "metadata": {},
          "execution_count": 6
        }
      ]
    },
    {
      "cell_type": "code",
      "source": [
        "# 4 Write a list comprehension that builds a list containing only even numbers over 100.\n",
        "even = [x for x in range(1,150,5) if x%2==0]\n",
        "even\n"
      ],
      "metadata": {
        "id": "0Wa24-zUAHrC",
        "colab": {
          "base_uri": "https://localhost:8080/"
        },
        "outputId": "55c5c84f-80dd-4d95-b90d-a068ffadef01"
      },
      "execution_count": 10,
      "outputs": [
        {
          "output_type": "execute_result",
          "data": {
            "text/plain": [
              "[6, 16, 26, 36, 46, 56, 66, 76, 86, 96, 106, 116, 126, 136, 146]"
            ]
          },
          "metadata": {},
          "execution_count": 10
        }
      ]
    },
    {
      "cell_type": "code",
      "source": [
        "# 5 Add % in front and end of every single word in a given string str: \"Fall is Awesome in Alabama\" only using\n",
        "#  list comprehensions.\n",
        "string = 'Fall is Awesome in Alabama'\n",
        "list_ = [string]\n",
        "l = [x for x in list_]\n",
        "'%'.join(l)"
      ],
      "metadata": {
        "colab": {
          "base_uri": "https://localhost:8080/",
          "height": 36
        },
        "id": "F0F_5Xf_rLYp",
        "outputId": "dc0b0ad6-ce93-4358-9a69-f48f95e96c4e"
      },
      "execution_count": 20,
      "outputs": [
        {
          "output_type": "execute_result",
          "data": {
            "text/plain": [
              "'Fall is Awesome in Alabama'"
            ],
            "application/vnd.google.colaboratory.intrinsic+json": {
              "type": "string"
            }
          },
          "metadata": {},
          "execution_count": 20
        }
      ]
    },
    {
      "cell_type": "code",
      "source": [
        "a = string.split()\n",
        "b = [x for x in a]\n",
        "'% , %'.join(b)"
      ],
      "metadata": {
        "colab": {
          "base_uri": "https://localhost:8080/",
          "height": 36
        },
        "id": "pu5r1auYthe2",
        "outputId": "a21dade5-9bba-4d33-b2b1-35a56088d0cc"
      },
      "execution_count": 24,
      "outputs": [
        {
          "output_type": "execute_result",
          "data": {
            "text/plain": [
              "'Fall% , %is% , %Awesome% , %in% , %Alabama'"
            ],
            "application/vnd.google.colaboratory.intrinsic+json": {
              "type": "string"
            }
          },
          "metadata": {},
          "execution_count": 24
        }
      ]
    },
    {
      "cell_type": "code",
      "source": [
        "list_ = ['%'+x+'%' for x in string.split()]\n",
        "list_"
      ],
      "metadata": {
        "colab": {
          "base_uri": "https://localhost:8080/"
        },
        "id": "3eBlD-sCt_Zi",
        "outputId": "645f8ab3-3065-4beb-f9cb-70a7d3eb8e75"
      },
      "execution_count": 25,
      "outputs": [
        {
          "output_type": "execute_result",
          "data": {
            "text/plain": [
              "['%Fall%', '%is%', '%Awesome%', '%in%', '%Alabama%']"
            ]
          },
          "metadata": {},
          "execution_count": 25
        }
      ]
    },
    {
      "cell_type": "code",
      "source": [
        "# 6 Use list comprehension to create a myList which consists of the positive integers 1-100.\n",
        "integers = [x for x in range(1,100) if x > 0]\n",
        "integers"
      ],
      "metadata": {
        "colab": {
          "base_uri": "https://localhost:8080/"
        },
        "id": "ikyFGtilvKVP",
        "outputId": "e100f6ba-01d9-4cae-fcb7-30706a5f328e"
      },
      "execution_count": 28,
      "outputs": [
        {
          "output_type": "execute_result",
          "data": {
            "text/plain": [
              "[1,\n",
              " 2,\n",
              " 3,\n",
              " 4,\n",
              " 5,\n",
              " 6,\n",
              " 7,\n",
              " 8,\n",
              " 9,\n",
              " 10,\n",
              " 11,\n",
              " 12,\n",
              " 13,\n",
              " 14,\n",
              " 15,\n",
              " 16,\n",
              " 17,\n",
              " 18,\n",
              " 19,\n",
              " 20,\n",
              " 21,\n",
              " 22,\n",
              " 23,\n",
              " 24,\n",
              " 25,\n",
              " 26,\n",
              " 27,\n",
              " 28,\n",
              " 29,\n",
              " 30,\n",
              " 31,\n",
              " 32,\n",
              " 33,\n",
              " 34,\n",
              " 35,\n",
              " 36,\n",
              " 37,\n",
              " 38,\n",
              " 39,\n",
              " 40,\n",
              " 41,\n",
              " 42,\n",
              " 43,\n",
              " 44,\n",
              " 45,\n",
              " 46,\n",
              " 47,\n",
              " 48,\n",
              " 49,\n",
              " 50,\n",
              " 51,\n",
              " 52,\n",
              " 53,\n",
              " 54,\n",
              " 55,\n",
              " 56,\n",
              " 57,\n",
              " 58,\n",
              " 59,\n",
              " 60,\n",
              " 61,\n",
              " 62,\n",
              " 63,\n",
              " 64,\n",
              " 65,\n",
              " 66,\n",
              " 67,\n",
              " 68,\n",
              " 69,\n",
              " 70,\n",
              " 71,\n",
              " 72,\n",
              " 73,\n",
              " 74,\n",
              " 75,\n",
              " 76,\n",
              " 77,\n",
              " 78,\n",
              " 79,\n",
              " 80,\n",
              " 81,\n",
              " 82,\n",
              " 83,\n",
              " 84,\n",
              " 85,\n",
              " 86,\n",
              " 87,\n",
              " 88,\n",
              " 89,\n",
              " 90,\n",
              " 91,\n",
              " 92,\n",
              " 93,\n",
              " 94,\n",
              " 95,\n",
              " 96,\n",
              " 97,\n",
              " 98,\n",
              " 99]"
            ]
          },
          "metadata": {},
          "execution_count": 28
        }
      ]
    },
    {
      "cell_type": "code",
      "source": [
        "# 7 Use list comprehension to create myListEvens which consists of all entries in myList that are even.\n",
        "my_list_events = [x for x in range(1,101) if x%2==0]\n",
        "my_list_events"
      ],
      "metadata": {
        "colab": {
          "base_uri": "https://localhost:8080/"
        },
        "id": "hSzXW_-YvlTQ",
        "outputId": "09fdec54-03da-4e0b-823d-0a5edccaab8e"
      },
      "execution_count": 29,
      "outputs": [
        {
          "output_type": "execute_result",
          "data": {
            "text/plain": [
              "[2,\n",
              " 4,\n",
              " 6,\n",
              " 8,\n",
              " 10,\n",
              " 12,\n",
              " 14,\n",
              " 16,\n",
              " 18,\n",
              " 20,\n",
              " 22,\n",
              " 24,\n",
              " 26,\n",
              " 28,\n",
              " 30,\n",
              " 32,\n",
              " 34,\n",
              " 36,\n",
              " 38,\n",
              " 40,\n",
              " 42,\n",
              " 44,\n",
              " 46,\n",
              " 48,\n",
              " 50,\n",
              " 52,\n",
              " 54,\n",
              " 56,\n",
              " 58,\n",
              " 60,\n",
              " 62,\n",
              " 64,\n",
              " 66,\n",
              " 68,\n",
              " 70,\n",
              " 72,\n",
              " 74,\n",
              " 76,\n",
              " 78,\n",
              " 80,\n",
              " 82,\n",
              " 84,\n",
              " 86,\n",
              " 88,\n",
              " 90,\n",
              " 92,\n",
              " 94,\n",
              " 96,\n",
              " 98,\n",
              " 100]"
            ]
          },
          "metadata": {},
          "execution_count": 29
        }
      ]
    },
    {
      "cell_type": "code",
      "source": [
        "#8 Use list comprehension to create a list of cubes of the integers 1-5.\n",
        "cubes = [x**3 for x in range(1,6,1)]\n",
        "cubes"
      ],
      "metadata": {
        "colab": {
          "base_uri": "https://localhost:8080/"
        },
        "id": "hgYxkqipvmSU",
        "outputId": "60779b66-b885-4017-b6b8-7d5380f145ca"
      },
      "execution_count": 31,
      "outputs": [
        {
          "output_type": "execute_result",
          "data": {
            "text/plain": [
              "[1, 8, 27, 64, 125]"
            ]
          },
          "metadata": {},
          "execution_count": 31
        }
      ]
    },
    {
      "cell_type": "code",
      "source": [
        "# 9 Use list comprehension to make a list of the first letter of each word in the following list:\n",
        "\n",
        "wordList = [\"this\", \"is\", \"an\", \"example\"]\n",
        "first_letter = [x[0] for x in wordList]\n",
        "first_letter"
      ],
      "metadata": {
        "colab": {
          "base_uri": "https://localhost:8080/"
        },
        "id": "0NUgFPbUwr0r",
        "outputId": "c032577c-ef93-42fe-d499-c8fcb2e1c8b2"
      },
      "execution_count": 32,
      "outputs": [
        {
          "output_type": "execute_result",
          "data": {
            "text/plain": [
              "['t', 'i', 'a', 'e']"
            ]
          },
          "metadata": {},
          "execution_count": 32
        }
      ]
    },
    {
      "cell_type": "code",
      "source": [
        "#10 Write a list comprehension that returns a list [0, 1, 4, 9, 16, ...., 625] starting from range(0, 26).\n",
        "sq = [x**2 for x in range(0,26,1)]\n",
        "sq"
      ],
      "metadata": {
        "colab": {
          "base_uri": "https://localhost:8080/"
        },
        "id": "NIZx_4IxxXz4",
        "outputId": "314ca2a3-facc-4abb-f93c-a70bd990fc18"
      },
      "execution_count": 35,
      "outputs": [
        {
          "output_type": "execute_result",
          "data": {
            "text/plain": [
              "[0,\n",
              " 1,\n",
              " 4,\n",
              " 9,\n",
              " 16,\n",
              " 25,\n",
              " 36,\n",
              " 49,\n",
              " 64,\n",
              " 81,\n",
              " 100,\n",
              " 121,\n",
              " 144,\n",
              " 169,\n",
              " 196,\n",
              " 225,\n",
              " 256,\n",
              " 289,\n",
              " 324,\n",
              " 361,\n",
              " 400,\n",
              " 441,\n",
              " 484,\n",
              " 529,\n",
              " 576,\n",
              " 625]"
            ]
          },
          "metadata": {},
          "execution_count": 35
        }
      ]
    },
    {
      "cell_type": "code",
      "source": [
        "# 11 Write a list comprehension that returns the list [\"1**2=1\", \"2**2=4\", \"3**2=9\", ...., \"25**2=625\"]\n",
        "[str(number)+'**2='+str(number*number) for number in range(0,26,1)]\n"
      ],
      "metadata": {
        "colab": {
          "base_uri": "https://localhost:8080/"
        },
        "id": "YHxD906dxlmg",
        "outputId": "cb651941-cf71-4e52-c788-4d8f063a7f48"
      },
      "execution_count": 38,
      "outputs": [
        {
          "output_type": "execute_result",
          "data": {
            "text/plain": [
              "['0**2=0',\n",
              " '1**2=1',\n",
              " '2**2=4',\n",
              " '3**2=9',\n",
              " '4**2=16',\n",
              " '5**2=25',\n",
              " '6**2=36',\n",
              " '7**2=49',\n",
              " '8**2=64',\n",
              " '9**2=81',\n",
              " '10**2=100',\n",
              " '11**2=121',\n",
              " '12**2=144',\n",
              " '13**2=169',\n",
              " '14**2=196',\n",
              " '15**2=225',\n",
              " '16**2=256',\n",
              " '17**2=289',\n",
              " '18**2=324',\n",
              " '19**2=361',\n",
              " '20**2=400',\n",
              " '21**2=441',\n",
              " '22**2=484',\n",
              " '23**2=529',\n",
              " '24**2=576',\n",
              " '25**2=625']"
            ]
          },
          "metadata": {},
          "execution_count": 38
        }
      ]
    },
    {
      "cell_type": "code",
      "source": [
        "# 12 A string is given:\n",
        "msg = \"happy birthday!\"\n",
        "\n",
        "# Write a list comprehension that prints a list ['h', 'a', 'p', 'p', 'y', 'b', 'i', 'r', 't', 'h', 'd', 'a', 'y']\n",
        "# Do not print out the space or the !.\n",
        "[x for x in list(msg) if x in 'abcdefghijklmnopqrstuvwxyz']"
      ],
      "metadata": {
        "colab": {
          "base_uri": "https://localhost:8080/"
        },
        "id": "9dI1VZvRyVtx",
        "outputId": "715c8ed0-fca6-4c75-badd-473eb6c1bdd1"
      },
      "execution_count": 41,
      "outputs": [
        {
          "output_type": "execute_result",
          "data": {
            "text/plain": [
              "['h', 'a', 'p', 'p', 'y', 'b', 'i', 'r', 't', 'h', 'd', 'a', 'y']"
            ]
          },
          "metadata": {},
          "execution_count": 41
        }
      ]
    },
    {
      "cell_type": "code",
      "source": [
        "[x for x in list(msg) if x!=' ' and x!='!']"
      ],
      "metadata": {
        "colab": {
          "base_uri": "https://localhost:8080/"
        },
        "id": "xpCk-eBCy9mE",
        "outputId": "2f6a0cf8-df85-4827-a779-5a2c42d6126a"
      },
      "execution_count": 42,
      "outputs": [
        {
          "output_type": "execute_result",
          "data": {
            "text/plain": [
              "['h', 'a', 'p', 'p', 'y', 'b', 'i', 'r', 't', 'h', 'd', 'a', 'y']"
            ]
          },
          "metadata": {},
          "execution_count": 42
        }
      ]
    },
    {
      "cell_type": "code",
      "source": [
        "# 13 Consider a list of strings, like this: ['one', 'seven', 'three', 'two', 'ten']. \n",
        "# Write a list comprehension that produces a list with tuples where the first element of the tuple is the length \n",
        "# of an element in the initial list. The second element of the tuple is the element of the initial list \n",
        "# capitalized. The resulting list contains only tuples for strings with a length longer than three characters.\n",
        "\n",
        "# For our example above, the list comprehension should return [(5, 'SEVEN'), (5, 'THREE')]\n",
        "list_ = ['one', 'seven', 'three', 'two', 'ten']\n",
        "tuple_= [(len(list_),)+(x.upper(),) for x in list_ if len(x)>3]\n",
        "tuple_"
      ],
      "metadata": {
        "colab": {
          "base_uri": "https://localhost:8080/"
        },
        "id": "BbJEcVfZzp9H",
        "outputId": "33773eff-8a8a-4716-b82d-2a1a5f79d37e"
      },
      "execution_count": 63,
      "outputs": [
        {
          "output_type": "execute_result",
          "data": {
            "text/plain": [
              "[(5, 'SEVEN'), (5, 'THREE')]"
            ]
          },
          "metadata": {},
          "execution_count": 63
        }
      ]
    },
    {
      "cell_type": "code",
      "source": [
        "tuple_ = [(len(list_),x.upper()) for x in list_ if len(x)>3]\n",
        "tuple_"
      ],
      "metadata": {
        "colab": {
          "base_uri": "https://localhost:8080/"
        },
        "id": "FYn9SoUH0yFy",
        "outputId": "2def58db-bb9f-49b0-8a47-7bce4fa22d97"
      },
      "execution_count": 61,
      "outputs": [
        {
          "output_type": "execute_result",
          "data": {
            "text/plain": [
              "[(5, 'SEVEN'), (5, 'THREE')]"
            ]
          },
          "metadata": {},
          "execution_count": 61
        }
      ]
    },
    {
      "cell_type": "code",
      "source": [
        "#14 Consider a list of full names formatted \"Firstname Lastname\", like [\"Jules Verne\", \"Alexandre Dumas\", \"Maurice Druon\"].\n",
        "#Write a list comprehension that produces a list with the full names in the format \"Lastname, Firstname\". \n",
        "#The resulting list should look like\n",
        "#['Verne, Jules', 'Dumas, Alexandre', 'Druon, Maurice']\n",
        "list_ = [\"Jules Verne\", \"Alexandre Dumas\", \"Maurice Druon\"]\n",
        "\n",
        "new = [name.split()[1]+','+name.split()[0] for name in list_]\n",
        "new\n"
      ],
      "metadata": {
        "colab": {
          "base_uri": "https://localhost:8080/"
        },
        "id": "-PZahxvF2Lpi",
        "outputId": "d677a4a0-1703-48ef-9c62-b5b088aac783"
      },
      "execution_count": 75,
      "outputs": [
        {
          "output_type": "execute_result",
          "data": {
            "text/plain": [
              "['Verne,Jules', 'Dumas,Alexandre', 'Druon,Maurice']"
            ]
          },
          "metadata": {},
          "execution_count": 75
        }
      ]
    },
    {
      "cell_type": "code",
      "source": [
        "#15 Using list comprehension, write a Python program to print the list after removing the 0th, 2nd, 4th, and \n",
        "#6th numbers in [12,24,35,70,88,120,155].\n",
        "num = [12,24,35,70,88,120,155]\n",
        "[value for index,value in enumerate(num) if index!=0 and index!=2 and index!=4 and index!=6]\n",
        " \n"
      ],
      "metadata": {
        "colab": {
          "base_uri": "https://localhost:8080/"
        },
        "id": "9zILg5yG2mqz",
        "outputId": "0bdfd815-bbf5-4d43-b89b-223dd684c7ba"
      },
      "execution_count": 80,
      "outputs": [
        {
          "output_type": "execute_result",
          "data": {
            "text/plain": [
              "[24, 70, 120]"
            ]
          },
          "metadata": {},
          "execution_count": 80
        }
      ]
    },
    {
      "cell_type": "code",
      "source": [
        "#16 A list of lists is given:\n",
        "prairie_pirates = [\n",
        "['Tractor Jack', 1000, True],\n",
        "['Plowshare Pete', 950, False],\n",
        "['Prairie Lily', 245, True],\n",
        "['Red River Rosie', 350, True],\n",
        "['Mad Athabasca McArthur', 842, False],\n",
        "['Assiniboine Sally', 620, True],\n",
        "['Thresher Tom', 150, True],\n",
        "['Cranky Canola Carl', 499, False]\n",
        "]\n",
        "#Each sublist contains three pieces of information on one famous prairie pirate- \n",
        "#their pirate name (pirates can have secret identities too!), the number of sacks of assorted grains \n",
        "# they have plundered from unsuspecting farmers in the last year, and a Boolean value indicating whether\n",
        "#  they like parrots.\n",
        "\n",
        "\n",
        "#(a) Use a single list comprehension to create a list of the pirate names who plundered more than 400 \n",
        "#sacks of assorted grains.\n",
        "list_pirates = [pirates for pirates in prairie_pirates if pirates[1]>400]\n",
        "list_pirates\n"
      ],
      "metadata": {
        "colab": {
          "base_uri": "https://localhost:8080/"
        },
        "id": "SNkoQug0378V",
        "outputId": "9b3cc60f-eac3-40bc-c980-72712c62600e"
      },
      "execution_count": 82,
      "outputs": [
        {
          "output_type": "execute_result",
          "data": {
            "text/plain": [
              "[['Tractor Jack', 1000, True],\n",
              " ['Plowshare Pete', 950, False],\n",
              " ['Mad Athabasca McArthur', 842, False],\n",
              " ['Assiniboine Sally', 620, True],\n",
              " ['Cranky Canola Carl', 499, False]]"
            ]
          },
          "metadata": {},
          "execution_count": 82
        }
      ]
    },
    {
      "cell_type": "code",
      "source": [
        "#(b) Use a single list comprehension to create a list of the pirate names who don't like parrots.\n",
        "list_bool = [pirates for pirates in prairie_pirates if pirates[2]==False]\n",
        "list_bool"
      ],
      "metadata": {
        "colab": {
          "base_uri": "https://localhost:8080/"
        },
        "id": "OnXxBroKDbZY",
        "outputId": "3b111d8b-4683-4b4d-f39a-73f6641a33cf"
      },
      "execution_count": 83,
      "outputs": [
        {
          "output_type": "execute_result",
          "data": {
            "text/plain": [
              "[['Plowshare Pete', 950, False],\n",
              " ['Mad Athabasca McArthur', 842, False],\n",
              " ['Cranky Canola Carl', 499, False]]"
            ]
          },
          "metadata": {},
          "execution_count": 83
        }
      ]
    },
    {
      "cell_type": "code",
      "source": [
        "#(c) Suppose that the average market value of a sack of grain is $42. Use a single list \n",
        "#comprehension to create a list of the market values of each pirate's grain.\n",
        "list_value = [value[1] for value in prairie_pirates ]\n",
        "list_value"
      ],
      "metadata": {
        "colab": {
          "base_uri": "https://localhost:8080/"
        },
        "id": "MkM5IYunEzN0",
        "outputId": "bf75d78e-568e-493e-d665-f7112f2c4c0c"
      },
      "execution_count": 85,
      "outputs": [
        {
          "output_type": "execute_result",
          "data": {
            "text/plain": [
              "[1000, 950, 245, 350, 842, 620, 150, 499]"
            ]
          },
          "metadata": {},
          "execution_count": 85
        }
      ]
    },
    {
      "cell_type": "code",
      "source": [
        "#(d) Use a single list comprehension to create a list of lists where each sublist consists of a pirate's name \n",
        "#and the value of his/her plundered sacks of grain (calculate grain values as in part (c)),\n",
        "# but only include those pirates who like parrots.\n",
        "\n",
        "list_likes = [[name,value*41]for name,value,bool_ in prairie_pirates if bool_==True]\n",
        "list_likes"
      ],
      "metadata": {
        "colab": {
          "base_uri": "https://localhost:8080/"
        },
        "id": "2SsjDvOgFPep",
        "outputId": "c6e6567c-de54-4783-a158-4ced91de0d8e"
      },
      "execution_count": 93,
      "outputs": [
        {
          "output_type": "execute_result",
          "data": {
            "text/plain": [
              "[['Tractor Jack', 41000],\n",
              " ['Prairie Lily', 10045],\n",
              " ['Red River Rosie', 14350],\n",
              " ['Assiniboine Sally', 25420],\n",
              " ['Thresher Tom', 6150]]"
            ]
          },
          "metadata": {},
          "execution_count": 93
        }
      ]
    },
    {
      "cell_type": "code",
      "source": [
        "#17 A list of lists is given:\n",
        "SPL_Patrons = [\n",
        "['Kim Tremblay', 134, True],\n",
        "['Emily Wilson', 42, False],\n",
        "['Jessica Smith', 215, True],\n",
        "['Alex Roy', 151, True],\n",
        "['Sarah Khan', 105, False],\n",
        "['Samuel Lee', 220, True],\n",
        "['William Brown', 24, False],\n",
        "['Ayesha Qureshi', 199, True],\n",
        "['David Martin', 56, True],\n",
        "['Ajeet Patel',69, False]\n",
        "]\n",
        "\n",
        "# Each sublist contains three pieces of information about the library patrons at Saskatoon Public Library (SPL) - patron's name, \n",
        "# the number of books they have borrowed throughout the last year, and a Boolean value indicating whether \n",
        "# they are under 20.\n",
        "\n",
        "# (a) Use a single list comprehension to create a list of the patron names who borrowed more than 100 books last year.\n",
        "more_100 = [name for name,books,age in SPL_Patrons if books>100]\n",
        "more_100"
      ],
      "metadata": {
        "colab": {
          "base_uri": "https://localhost:8080/"
        },
        "id": "iljxaw0DG6UA",
        "outputId": "2b439c85-2ade-4097-9832-4f6a7fe2dafa"
      },
      "execution_count": 96,
      "outputs": [
        {
          "output_type": "execute_result",
          "data": {
            "text/plain": [
              "['Kim Tremblay',\n",
              " 'Jessica Smith',\n",
              " 'Alex Roy',\n",
              " 'Sarah Khan',\n",
              " 'Samuel Lee',\n",
              " 'Ayesha Qureshi']"
            ]
          },
          "metadata": {},
          "execution_count": 96
        }
      ]
    },
    {
      "cell_type": "code",
      "source": [
        "#(b) Use a single list comprehension to create a list of the patron names who are not under 20.\n",
        "not_under_20 = [name for name,books,age in prairie_pirates if age==False]\n",
        "not_under_20"
      ],
      "metadata": {
        "colab": {
          "base_uri": "https://localhost:8080/"
        },
        "id": "HWjUK2-GJ5v9",
        "outputId": "f6545036-8a85-40b9-8511-725ca88bc514"
      },
      "execution_count": 98,
      "outputs": [
        {
          "output_type": "execute_result",
          "data": {
            "text/plain": [
              "['Plowshare Pete', 'Mad Athabasca McArthur', 'Cranky Canola Carl']"
            ]
          },
          "metadata": {},
          "execution_count": 98
        }
      ]
    },
    {
      "cell_type": "code",
      "source": [
        "#(c) Suppose that a patron saves on average $11.95 by borrowing a book instead of buying it.\n",
        "# Use a single list comprehension to create a list of the amount saved for each patron.\n",
        "\n",
        "save_money = [money[1]*11.95 for money in prairie_pirates]\n",
        "save_money"
      ],
      "metadata": {
        "colab": {
          "base_uri": "https://localhost:8080/"
        },
        "id": "IBqruXaQK042",
        "outputId": "ecc5f6b5-ede3-427b-f932-79312ca2c789"
      },
      "execution_count": 100,
      "outputs": [
        {
          "output_type": "execute_result",
          "data": {
            "text/plain": [
              "[11950.0, 11352.5, 2927.75, 4182.5, 10061.9, 7409.0, 1792.5, 5963.049999999999]"
            ]
          },
          "metadata": {},
          "execution_count": 100
        }
      ]
    },
    {
      "cell_type": "code",
      "source": [
        "#(d) Use a single list comprehension to create a list of lists where each sublist consists of a patron's \n",
        "#name and the total amount he/she saved last year as in part (c)), but only include those patrons who\n",
        "# are under 20.\n",
        "list_list = [[name[0], name[1]*11.45] for name in SPL_Patrons if name[2]==True]\n",
        "list_list"
      ],
      "metadata": {
        "colab": {
          "base_uri": "https://localhost:8080/"
        },
        "id": "DobGD1ExLe1D",
        "outputId": "2eed919a-58d7-4336-b4e9-342e95fe506d"
      },
      "execution_count": 104,
      "outputs": [
        {
          "output_type": "execute_result",
          "data": {
            "text/plain": [
              "[['Kim Tremblay', 1534.3],\n",
              " ['Jessica Smith', 2461.75],\n",
              " ['Alex Roy', 1728.9499999999998],\n",
              " ['Samuel Lee', 2519.0],\n",
              " ['Ayesha Qureshi', 2278.5499999999997],\n",
              " ['David Martin', 641.1999999999999]]"
            ]
          },
          "metadata": {},
          "execution_count": 104
        }
      ]
    },
    {
      "cell_type": "code",
      "source": [],
      "metadata": {
        "id": "mnfQn-mjQLkM"
      },
      "execution_count": null,
      "outputs": []
    },
    {
      "cell_type": "code",
      "source": [],
      "metadata": {
        "id": "RC3778TlQiyx"
      },
      "execution_count": null,
      "outputs": []
    }
  ]
}